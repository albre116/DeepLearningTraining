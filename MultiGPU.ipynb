{
 "cells": [
  {
   "cell_type": "code",
   "execution_count": 1,
   "metadata": {},
   "outputs": [
    {
     "name": "stdout",
     "output_type": "stream",
     "text": [
      "Traceback (most recent call last):\r\n",
      "  File \"<string>\", line 1, in <module>\r\n",
      "ModuleNotFoundError: No module named 'keras'\r\n"
     ]
    }
   ],
   "source": [
    "!python -c 'import keras; print(keras.__version__)'"
   ]
  },
  {
   "cell_type": "code",
   "execution_count": 2,
   "metadata": {},
   "outputs": [
    {
     "ename": "ModuleNotFoundError",
     "evalue": "No module named 'tensorflow'",
     "output_type": "error",
     "traceback": [
      "\u001b[0;31m---------------------------------------------------------------------------\u001b[0m",
      "\u001b[0;31mModuleNotFoundError\u001b[0m                       Traceback (most recent call last)",
      "\u001b[0;32m<ipython-input-2-1b9c3d6af2e8>\u001b[0m in \u001b[0;36m<module>\u001b[0;34m()\u001b[0m\n\u001b[0;32m----> 1\u001b[0;31m \u001b[0;32mimport\u001b[0m \u001b[0mtensorflow\u001b[0m \u001b[0;32mas\u001b[0m \u001b[0mtf\u001b[0m\u001b[0;34m\u001b[0m\u001b[0m\n\u001b[0m\u001b[1;32m      2\u001b[0m \u001b[0;32mfrom\u001b[0m \u001b[0mkeras\u001b[0m\u001b[0;34m.\u001b[0m\u001b[0mapplications\u001b[0m \u001b[0;32mimport\u001b[0m \u001b[0mXception\u001b[0m\u001b[0;34m\u001b[0m\u001b[0m\n\u001b[1;32m      3\u001b[0m \u001b[0;32mfrom\u001b[0m \u001b[0mkeras\u001b[0m\u001b[0;34m.\u001b[0m\u001b[0mutils\u001b[0m \u001b[0;32mimport\u001b[0m \u001b[0mmulti_gpu_model\u001b[0m\u001b[0;34m\u001b[0m\u001b[0m\n\u001b[1;32m      4\u001b[0m \u001b[0;32mimport\u001b[0m \u001b[0mnumpy\u001b[0m \u001b[0;32mas\u001b[0m \u001b[0mnp\u001b[0m\u001b[0;34m\u001b[0m\u001b[0m\n\u001b[1;32m      5\u001b[0m \u001b[0;34m\u001b[0m\u001b[0m\n",
      "\u001b[0;31mModuleNotFoundError\u001b[0m: No module named 'tensorflow'"
     ]
    }
   ],
   "source": [
    "import tensorflow as tf\n",
    "from keras.applications import Xception\n",
    "from keras.utils import multi_gpu_model\n",
    "import numpy as np\n",
    "\n",
    "num_samples = 1000\n",
    "height = 224\n",
    "width = 224\n",
    "num_classes = 1000\n",
    "\n",
    "G=2\n",
    "\n",
    "# Instantiate the base model (or \"template\" model).\n",
    "# We recommend doing this with under a CPU device scope,\n",
    "# so that the model's weights are hosted on CPU memory.\n",
    "# Otherwise they may end up hosted on a GPU, which would\n",
    "# complicate weight sharing.\n",
    "with tf.device('/cpu:0'):\n",
    "    model = Xception(weights=None,\n",
    "                     input_shape=(height, width, 3),\n",
    "                     classes=num_classes)\n",
    "\n",
    "# Replicates the model on 8 GPUs.\n",
    "# This assumes that your machine has 8 available GPUs.\n",
    "parallel_model = multi_gpu_model(model, gpus=G)\n",
    "parallel_model.compile(loss='categorical_crossentropy',\n",
    "                       optimizer='rmsprop')\n",
    "\n",
    "# Generate dummy data.\n",
    "x = np.random.random((num_samples, height, width, 3))\n",
    "y = np.random.random((num_samples, num_classes))\n",
    "\n",
    "# This `fit` call will be distributed on 8 GPUs.\n",
    "# Since the batch size is 256, each GPU will process 32 samples.\n",
    "parallel_model.fit(x, y, epochs=10, batch_size=32*G)\n",
    "\n",
    "# Save model via the template model (which shares the same weights):\n",
    "#model.save('my_model.h5')\n",
    "\n"
   ]
  },
  {
   "cell_type": "code",
   "execution_count": 3,
   "metadata": {},
   "outputs": [
    {
     "name": "stdout",
     "output_type": "stream",
     "text": [
      "Epoch 1/10\n",
      "1000/1000 [==============================] - 19s 19ms/step - loss: 3462.4697\n",
      "Epoch 2/10\n",
      "1000/1000 [==============================] - 15s 15ms/step - loss: 3457.4632\n",
      "Epoch 3/10\n",
      "1000/1000 [==============================] - 15s 15ms/step - loss: 3457.3616\n",
      "Epoch 4/10\n",
      "1000/1000 [==============================] - 15s 15ms/step - loss: 3457.2924\n",
      "Epoch 5/10\n",
      "1000/1000 [==============================] - 15s 15ms/step - loss: 3457.0518\n",
      "Epoch 6/10\n",
      "1000/1000 [==============================] - 15s 15ms/step - loss: 3456.2236\n",
      "Epoch 7/10\n",
      "1000/1000 [==============================] - 15s 15ms/step - loss: 3454.8189\n",
      "Epoch 8/10\n",
      "1000/1000 [==============================] - 15s 15ms/step - loss: 3453.3024\n",
      "Epoch 9/10\n",
      "1000/1000 [==============================] - 15s 15ms/step - loss: 3451.0811\n",
      "Epoch 10/10\n",
      "1000/1000 [==============================] - 15s 15ms/step - loss: 3448.6749\n"
     ]
    },
    {
     "data": {
      "text/plain": [
       "<keras.callbacks.History at 0x7f3eae1f6e10>"
      ]
     },
     "execution_count": 3,
     "metadata": {},
     "output_type": "execute_result"
    }
   ],
   "source": [
    "import tensorflow as tf\n",
    "from keras.applications import Xception\n",
    "from keras.utils import multi_gpu_model\n",
    "import numpy as np\n",
    "\n",
    "num_samples = 1000\n",
    "height = 224\n",
    "width = 224\n",
    "num_classes = 1000\n",
    "\n",
    "G=1\n",
    "\n",
    "model = Xception(weights=None,\n",
    "                     input_shape=(height, width, 3),\n",
    "                     classes=num_classes)\n",
    "\n",
    "model.compile(loss='categorical_crossentropy',\n",
    "                       optimizer='rmsprop')\n",
    "\n",
    "# Generate dummy data.\n",
    "x = np.random.random((num_samples, height, width, 3))\n",
    "y = np.random.random((num_samples, num_classes))\n",
    "\n",
    "# This `fit` call will be distributed on 8 GPUs.\n",
    "# Since the batch size is 256, each GPU will process 32 samples.\n",
    "model.fit(x, y, epochs=10, batch_size=32*G)\n",
    "\n",
    "# Save model via the template model (which shares the same weights):\n",
    "#model.save('my_model.h5')\n",
    "\n",
    "\n"
   ]
  },
  {
   "cell_type": "code",
   "execution_count": 3,
   "metadata": {},
   "outputs": [
    {
     "name": "stdout",
     "output_type": "stream",
     "text": [
      "_________________________________________________________________\n",
      "Layer (type)                 Output Shape              Param #   \n",
      "=================================================================\n",
      "dense_6 (Dense)              (None, 4000)              32004000  \n",
      "_________________________________________________________________\n",
      "dense_7 (Dense)              (None, 2000)              8002000   \n",
      "_________________________________________________________________\n",
      "dense_8 (Dense)              (None, 500)               1000500   \n",
      "_________________________________________________________________\n",
      "dense_9 (Dense)              (None, 500)               250500    \n",
      "_________________________________________________________________\n",
      "dense_10 (Dense)             (None, 500)               250500    \n",
      "_________________________________________________________________\n",
      "dense_11 (Dense)             (None, 500)               250500    \n",
      "_________________________________________________________________\n",
      "dense_12 (Dense)             (None, 500)               250500    \n",
      "_________________________________________________________________\n",
      "dense_13 (Dense)             (None, 500)               250500    \n",
      "_________________________________________________________________\n",
      "dense_14 (Dense)             (None, 500)               250500    \n",
      "_________________________________________________________________\n",
      "dense_15 (Dense)             (None, 500)               250500    \n",
      "_________________________________________________________________\n",
      "dense_16 (Dense)             (None, 500)               250500    \n",
      "_________________________________________________________________\n",
      "dense_17 (Dense)             (None, 500)               250500    \n",
      "_________________________________________________________________\n",
      "dense_18 (Dense)             (None, 300)               150300    \n",
      "_________________________________________________________________\n",
      "dense_19 (Dense)             (None, 1)                 301       \n",
      "=================================================================\n",
      "Total params: 43,411,601\n",
      "Trainable params: 43,411,601\n",
      "Non-trainable params: 0\n",
      "_________________________________________________________________\n",
      "None\n",
      "Epoch 1/5\n",
      "131072/131072 [==============================] - 10s 80us/step - loss: 0.6933 - acc: 0.4993\n",
      "Epoch 2/5\n",
      "131072/131072 [==============================] - 10s 75us/step - loss: 0.6932 - acc: 0.5015\n",
      "Epoch 3/5\n",
      "131072/131072 [==============================] - 10s 76us/step - loss: 0.6932 - acc: 0.4988\n",
      "Epoch 4/5\n",
      "131072/131072 [==============================] - 10s 75us/step - loss: 0.6932 - acc: 0.4989\n",
      "Epoch 5/5\n",
      "131072/131072 [==============================] - 10s 74us/step - loss: 0.6932 - acc: 0.5008\n"
     ]
    },
    {
     "data": {
      "text/plain": [
       "<keras.callbacks.History at 0x7fe37004bc50>"
      ]
     },
     "execution_count": 3,
     "metadata": {},
     "output_type": "execute_result"
    }
   ],
   "source": [
    "import tensorflow as tf\n",
    "from keras.utils import multi_gpu_model\n",
    "import numpy as np\n",
    "import keras\n",
    "from keras.models import Sequential\n",
    "from keras.layers import Dense\n",
    "\n",
    "G=2\n",
    "\n",
    "with tf.device('/cpu:0'):\n",
    "    model = Sequential()\n",
    "    model.add(Dense(4000, input_dim=8000, activation='tanh'))\n",
    "    model.add(Dense(2000, input_dim=8000, activation='relu'))\n",
    "    for i in range(0,10):\n",
    "        model.add(Dense(500, activation='relu'))\n",
    "    model.add(Dense(300, activation='relu'))\n",
    "    model.add(Dense(1, activation='sigmoid'))\n",
    "print (model.summary())\n",
    "model =  multi_gpu_model(model, G)\n",
    "optimizer = keras.optimizers.Adam(lr=0.0001)\n",
    "model.compile(loss='binary_crossentropy', optimizer=optimizer, metrics=['accuracy'])\n",
    "x = np.random.rand(131072, 8000)\n",
    "y = np.random.randint(0, 2, (131072, 1))\n",
    "model.fit(x, y, epochs=5, batch_size=2048*G)"
   ]
  },
  {
   "cell_type": "code",
   "execution_count": 4,
   "metadata": {},
   "outputs": [
    {
     "name": "stdout",
     "output_type": "stream",
     "text": [
      "_________________________________________________________________\n",
      "Layer (type)                 Output Shape              Param #   \n",
      "=================================================================\n",
      "dense_20 (Dense)             (None, 4000)              32004000  \n",
      "_________________________________________________________________\n",
      "dense_21 (Dense)             (None, 2000)              8002000   \n",
      "_________________________________________________________________\n",
      "dense_22 (Dense)             (None, 500)               1000500   \n",
      "_________________________________________________________________\n",
      "dense_23 (Dense)             (None, 500)               250500    \n",
      "_________________________________________________________________\n",
      "dense_24 (Dense)             (None, 500)               250500    \n",
      "_________________________________________________________________\n",
      "dense_25 (Dense)             (None, 500)               250500    \n",
      "_________________________________________________________________\n",
      "dense_26 (Dense)             (None, 500)               250500    \n",
      "_________________________________________________________________\n",
      "dense_27 (Dense)             (None, 500)               250500    \n",
      "_________________________________________________________________\n",
      "dense_28 (Dense)             (None, 500)               250500    \n",
      "_________________________________________________________________\n",
      "dense_29 (Dense)             (None, 500)               250500    \n",
      "_________________________________________________________________\n",
      "dense_30 (Dense)             (None, 500)               250500    \n",
      "_________________________________________________________________\n",
      "dense_31 (Dense)             (None, 500)               250500    \n",
      "_________________________________________________________________\n",
      "dense_32 (Dense)             (None, 300)               150300    \n",
      "_________________________________________________________________\n",
      "dense_33 (Dense)             (None, 1)                 301       \n",
      "=================================================================\n",
      "Total params: 43,411,601\n",
      "Trainable params: 43,411,601\n",
      "Non-trainable params: 0\n",
      "_________________________________________________________________\n",
      "None\n",
      "Epoch 1/5\n",
      "131072/131072 [==============================] - 11s 85us/step - loss: 0.6934 - acc: 0.4987\n",
      "Epoch 2/5\n",
      "131072/131072 [==============================] - 11s 81us/step - loss: 0.6932 - acc: 0.5012\n",
      "Epoch 3/5\n",
      "131072/131072 [==============================] - 10s 78us/step - loss: 0.6933 - acc: 0.4974\n",
      "Epoch 4/5\n",
      "131072/131072 [==============================] - 10s 76us/step - loss: 0.6932 - acc: 0.5014\n",
      "Epoch 5/5\n",
      "131072/131072 [==============================] - 10s 75us/step - loss: 0.6932 - acc: 0.4987\n"
     ]
    },
    {
     "data": {
      "text/plain": [
       "<keras.callbacks.History at 0x7fe1f0cf6908>"
      ]
     },
     "execution_count": 4,
     "metadata": {},
     "output_type": "execute_result"
    }
   ],
   "source": [
    "import numpy as np\n",
    "import keras\n",
    "from keras.models import Sequential\n",
    "from keras.layers import Dense\n",
    "\n",
    "G=1\n",
    "\n",
    "model = Sequential()\n",
    "model.add(Dense(4000, input_dim=8000, activation='tanh'))\n",
    "model.add(Dense(2000, input_dim=8000, activation='relu'))\n",
    "for i in range(0,10):\n",
    "    model.add(Dense(500, activation='relu'))\n",
    "model.add(Dense(300, activation='relu'))\n",
    "model.add(Dense(1, activation='sigmoid'))\n",
    "print (model.summary())\n",
    "#model =  multi_gpu_model(model, G)\n",
    "optimizer = keras.optimizers.Adam(lr=0.0001)\n",
    "model.compile(loss='binary_crossentropy', optimizer=optimizer, metrics=['accuracy'])\n",
    "x = np.random.rand(131072, 8000)\n",
    "y = np.random.randint(0, 2, (131072, 1))\n",
    "model.fit(x, y, epochs=5, batch_size=2048*G)"
   ]
  },
  {
   "cell_type": "code",
   "execution_count": null,
   "metadata": {},
   "outputs": [],
   "source": [
    "G=2\n",
    "import tensorflow as tf\n",
    "print(\"[INFO] training with {} GPUs...\".format(G))\n",
    "from keras.utils.training_utils import multi_gpu_model\n",
    " \n",
    "# we'll store a copy of the model on *every* GPU and then combine\n",
    "# the results from the gradient updates on the CPU\n",
    "with tf.device(\"/cpu:0\"):\n",
    "    # initialize the model\n",
    "    model = Sequential()\n",
    "    model.add(Embedding(max_features,\n",
    "                        embedding_dims,\n",
    "                        input_length=maxlen))\n",
    "    model.add(Dropout(0.2))\n",
    "    model.add(Conv1D(filters,\n",
    "                     kernel_size,\n",
    "                     padding='valid',\n",
    "                     activation='relu',\n",
    "                     strides=1))\n",
    "    model.add(GlobalMaxPooling1D())\n",
    "    model.add(Dense(hidden_dims))\n",
    "    model.add(Dropout(0.2))\n",
    "    model.add(Activation('relu'))\n",
    "    model.add(Dense(1))\n",
    "    model.add(Activation('sigmoid'))\n",
    "    # make the model parallel\n",
    "    model = multi_gpu_model(model, gpus=G)\n",
    "    # initialize the optimizer and model\n",
    "    print(\"[INFO] compiling model...\")\n",
    "    model.compile(loss='binary_crossentropy',\n",
    "                  optimizer='adam',\n",
    "                  metrics=['accuracy'])\n",
    "    # train the network\n",
    "    print(\"[INFO] training network...\")\n",
    "    model.fit(x_train, y_train,\n",
    "              batch_size=batch_size * G,\n",
    "              epochs=epochs,\n",
    "              validation_data=(x_test, y_test))"
   ]
  }
 ],
 "metadata": {
  "kernelspec": {
   "display_name": "Python 3",
   "language": "python",
   "name": "python3"
  },
  "language_info": {
   "codemirror_mode": {
    "name": "ipython",
    "version": 3
   },
   "file_extension": ".py",
   "mimetype": "text/x-python",
   "name": "python",
   "nbconvert_exporter": "python",
   "pygments_lexer": "ipython3",
   "version": "3.6.5"
  }
 },
 "nbformat": 4,
 "nbformat_minor": 2
}
