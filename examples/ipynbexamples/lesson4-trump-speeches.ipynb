{
 "cells": [
  {
   "cell_type": "code",
   "execution_count": 1,
   "metadata": {},
   "outputs": [],
   "source": [
    "import sys\n",
    "import os\n",
    "os.getcwd()\n",
    "sys.path.insert(0,\"/notebooks\") ###link the fast AI package"
   ]
  },
  {
   "cell_type": "code",
   "execution_count": 2,
   "metadata": {},
   "outputs": [
    {
     "name": "stdout",
     "output_type": "stream",
     "text": [
      "Collecting https://github.com/explosion/spacy-models/releases/download/en_core_web_sm-2.0.0/en_core_web_sm-2.0.0.tar.gz\n",
      "  Downloading https://github.com/explosion/spacy-models/releases/download/en_core_web_sm-2.0.0/en_core_web_sm-2.0.0.tar.gz (37.4MB)\n",
      "\u001b[K    100% |################################| 37.4MB 78.5MB/s ta 0:00:011\n",
      "\u001b[?25hInstalling collected packages: en-core-web-sm\n",
      "  Running setup.py install for en-core-web-sm ... \u001b[?25ldone\n",
      "\u001b[?25hSuccessfully installed en-core-web-sm-2.0.0\n",
      "\u001b[33mYou are using pip version 9.0.3, however version 10.0.1 is available.\n",
      "You should consider upgrading via the 'pip install --upgrade pip' command.\u001b[0m\n",
      "\n",
      "\u001b[93m    Linking successful\u001b[0m\n",
      "    /opt/conda/envs/fastai/lib/python3.6/site-packages/en_core_web_sm -->\n",
      "    /opt/conda/envs/fastai/lib/python3.6/site-packages/spacy/data/en\n",
      "\n",
      "    You can now load the model via spacy.load('en')\n",
      "\n"
     ]
    }
   ],
   "source": [
    "%reload_ext autoreload\n",
    "%autoreload 2\n",
    "%matplotlib inline\n",
    "\n",
    "from fastai.learner import *\n",
    "\n",
    "import torchtext\n",
    "from torchtext import vocab, data\n",
    "from torchtext.datasets import language_modeling\n",
    "\n",
    "from fastai.rnn_reg import *\n",
    "from fastai.rnn_train import *\n",
    "from fastai.nlp import *\n",
    "from fastai.lm_rnn import *\n",
    "\n",
    "import dill as pickle\n",
    "import spacy\n",
    "\n",
    "!python -m spacy download en\n",
    "# spacy.load('en')\n",
    "# spacy_en = spacy.load('en')\n",
    "\n",
    "import pandas as pd\n",
    "import json\n",
    "import random"
   ]
  },
  {
   "cell_type": "markdown",
   "metadata": {},
   "source": [
    "### Convert JSON files of Trump tweets to individual text files"
   ]
  },
  {
   "cell_type": "code",
   "execution_count": 38,
   "metadata": {},
   "outputs": [
    {
     "name": "stdout",
     "output_type": "stream",
     "text": [
      "README.md  \u001b[0m\u001b[01;34mmodels\u001b[0m/  \u001b[01;34mtext\u001b[0m/  \u001b[01;34mtrain\u001b[0m/  trump_campaign_corpus.json  \u001b[01;34mvalid\u001b[0m/\r\n"
     ]
    }
   ],
   "source": [
    "PATH='/notebooks/courses/dl1/data/corpus/'\n",
    "\n",
    "#PATH='data/trump_tweet_data_archive/'\n",
    "\n",
    "if not os.path.exists(PATH + 'models'):\n",
    "    os.mkdir(PATH + 'models')\n",
    "    \n",
    "if not os.path.exists(PATH + 'train'):\n",
    "    os.mkdir(PATH + 'train')\n",
    "\n",
    "if not os.path.exists(PATH + 'valid'):\n",
    "    os.mkdir(PATH + 'valid')\n",
    "\n",
    "TRN_PATH = 'train/'\n",
    "VAL_PATH = 'valid/'\n",
    "TRN = f'{PATH}{TRN_PATH}'\n",
    "VAL = f'{PATH}{VAL_PATH}'\n",
    "\n",
    "%ls {PATH}"
   ]
  },
  {
   "cell_type": "code",
   "execution_count": 4,
   "metadata": {},
   "outputs": [
    {
     "name": "stdout",
     "output_type": "stream",
     "text": [
      "(5394, 15)\n"
     ]
    },
    {
     "data": {
      "text/html": [
       "<div>\n",
       "<style scoped>\n",
       "    .dataframe tbody tr th:only-of-type {\n",
       "        vertical-align: middle;\n",
       "    }\n",
       "\n",
       "    .dataframe tbody tr th {\n",
       "        vertical-align: top;\n",
       "    }\n",
       "\n",
       "    .dataframe thead th {\n",
       "        text-align: right;\n",
       "    }\n",
       "</style>\n",
       "<table border=\"1\" class=\"dataframe\">\n",
       "  <thead>\n",
       "    <tr style=\"text-align: right;\">\n",
       "      <th></th>\n",
       "      <th>completeness</th>\n",
       "      <th>date_created</th>\n",
       "      <th>date_published</th>\n",
       "      <th>doc</th>\n",
       "      <th>doc_orig</th>\n",
       "      <th>event</th>\n",
       "      <th>genre</th>\n",
       "      <th>is_as_spoken</th>\n",
       "      <th>is_public_domain</th>\n",
       "      <th>location</th>\n",
       "      <th>people</th>\n",
       "      <th>publisher</th>\n",
       "      <th>text_filename</th>\n",
       "      <th>title</th>\n",
       "      <th>twitter_source</th>\n",
       "    </tr>\n",
       "  </thead>\n",
       "  <tbody>\n",
       "    <tr>\n",
       "      <th>0</th>\n",
       "      <td>complete</td>\n",
       "      <td>None</td>\n",
       "      <td>Mon Jun 15 11:12:50 -0500 2015</td>\n",
       "      <td>{'person': 'Donald Trump', 'p': 'Tomorrow will...</td>\n",
       "      <td>{'person': 'Donald Trump', 'p': 'Tomorrow will...</td>\n",
       "      <td>None</td>\n",
       "      <td>tweet</td>\n",
       "      <td>0.0</td>\n",
       "      <td>NaN</td>\n",
       "      <td>{'venue': None, 'city': None, 'state': None, '...</td>\n",
       "      <td>[{'person': 'Donald Trump', 'role': 'speaker',...</td>\n",
       "      <td>{'show': None, 'media_org': 'twitter'}</td>\n",
       "      <td>2015-06-15 11.12.50 (Complete, As written) Twe...</td>\n",
       "      <td>None</td>\n",
       "      <td>Twitter for Android</td>\n",
       "    </tr>\n",
       "    <tr>\n",
       "      <th>1</th>\n",
       "      <td>complete</td>\n",
       "      <td>None</td>\n",
       "      <td>Mon Jun 15 16:33:32 -0500 2015</td>\n",
       "      <td>{'person': 'Donald Trump', 'p': 'Will do, than...</td>\n",
       "      <td>{'person': 'Donald Trump', 'p': 'Will do, than...</td>\n",
       "      <td>None</td>\n",
       "      <td>tweet</td>\n",
       "      <td>0.0</td>\n",
       "      <td>NaN</td>\n",
       "      <td>{'venue': None, 'city': None, 'state': None, '...</td>\n",
       "      <td>[{'person': 'Donald Trump', 'role': 'speaker',...</td>\n",
       "      <td>{'show': None, 'media_org': 'twitter'}</td>\n",
       "      <td>2015-06-15 16.33.32 (Complete, As written) Twe...</td>\n",
       "      <td>None</td>\n",
       "      <td>Twitter Web Client</td>\n",
       "    </tr>\n",
       "    <tr>\n",
       "      <th>2</th>\n",
       "      <td>complete</td>\n",
       "      <td>None</td>\n",
       "      <td>Tue Jun 16 11:00:00 -0500 2015</td>\n",
       "      <td>[{'person': 'Donald Trump', 'p': ['Wow. Whoa. ...</td>\n",
       "      <td>None</td>\n",
       "      <td>Presidential Candidacy Announcement</td>\n",
       "      <td>speech</td>\n",
       "      <td>1.0</td>\n",
       "      <td>NaN</td>\n",
       "      <td>{'venue': None, 'city': 'New York', 'state': '...</td>\n",
       "      <td>[{'person': 'Donald Trump', 'role': 'speaker',...</td>\n",
       "      <td>{'show': None, 'media_org': None}</td>\n",
       "      <td>2015-06-16 11.00.00 (Complete, As spoken) Spee...</td>\n",
       "      <td>None</td>\n",
       "      <td>None</td>\n",
       "    </tr>\n",
       "    <tr>\n",
       "      <th>3</th>\n",
       "      <td>complete</td>\n",
       "      <td>None</td>\n",
       "      <td>Tue Jun 16 11:00:00 -0500 2015</td>\n",
       "      <td>{'person': 'Donald Trump', 'p': ['Our country ...</td>\n",
       "      <td>None</td>\n",
       "      <td>Presidential Candidacy Announcement</td>\n",
       "      <td>speech</td>\n",
       "      <td>0.0</td>\n",
       "      <td>NaN</td>\n",
       "      <td>{'venue': None, 'city': 'New York', 'state': '...</td>\n",
       "      <td>[{'person': 'Donald Trump', 'role': 'speaker',...</td>\n",
       "      <td>{'show': None, 'media_org': None}</td>\n",
       "      <td>2015-06-16 11.00.00 (Complete, As written) Spe...</td>\n",
       "      <td>None</td>\n",
       "      <td>None</td>\n",
       "    </tr>\n",
       "    <tr>\n",
       "      <th>4</th>\n",
       "      <td>complete</td>\n",
       "      <td>None</td>\n",
       "      <td>Tue Jun 16 12:20:40 -0500 2015</td>\n",
       "      <td>{'person': 'Donald Trump', 'p': 'Big time in U...</td>\n",
       "      <td>{'person': 'Donald Trump', 'p': 'Big time in U...</td>\n",
       "      <td>None</td>\n",
       "      <td>tweet</td>\n",
       "      <td>0.0</td>\n",
       "      <td>NaN</td>\n",
       "      <td>{'venue': None, 'city': None, 'state': None, '...</td>\n",
       "      <td>[{'person': 'Donald Trump', 'role': 'speaker',...</td>\n",
       "      <td>{'show': None, 'media_org': 'twitter'}</td>\n",
       "      <td>2015-06-16 12.20.40 (Complete, As written) Twe...</td>\n",
       "      <td>None</td>\n",
       "      <td>Twitter for Android</td>\n",
       "    </tr>\n",
       "  </tbody>\n",
       "</table>\n",
       "</div>"
      ],
      "text/plain": [
       "  completeness date_created                  date_published  \\\n",
       "0     complete         None  Mon Jun 15 11:12:50 -0500 2015   \n",
       "1     complete         None  Mon Jun 15 16:33:32 -0500 2015   \n",
       "2     complete         None  Tue Jun 16 11:00:00 -0500 2015   \n",
       "3     complete         None  Tue Jun 16 11:00:00 -0500 2015   \n",
       "4     complete         None  Tue Jun 16 12:20:40 -0500 2015   \n",
       "\n",
       "                                                 doc  \\\n",
       "0  {'person': 'Donald Trump', 'p': 'Tomorrow will...   \n",
       "1  {'person': 'Donald Trump', 'p': 'Will do, than...   \n",
       "2  [{'person': 'Donald Trump', 'p': ['Wow. Whoa. ...   \n",
       "3  {'person': 'Donald Trump', 'p': ['Our country ...   \n",
       "4  {'person': 'Donald Trump', 'p': 'Big time in U...   \n",
       "\n",
       "                                            doc_orig  \\\n",
       "0  {'person': 'Donald Trump', 'p': 'Tomorrow will...   \n",
       "1  {'person': 'Donald Trump', 'p': 'Will do, than...   \n",
       "2                                               None   \n",
       "3                                               None   \n",
       "4  {'person': 'Donald Trump', 'p': 'Big time in U...   \n",
       "\n",
       "                                 event   genre  is_as_spoken  \\\n",
       "0                                 None   tweet           0.0   \n",
       "1                                 None   tweet           0.0   \n",
       "2  Presidential Candidacy Announcement  speech           1.0   \n",
       "3  Presidential Candidacy Announcement  speech           0.0   \n",
       "4                                 None   tweet           0.0   \n",
       "\n",
       "   is_public_domain                                           location  \\\n",
       "0               NaN  {'venue': None, 'city': None, 'state': None, '...   \n",
       "1               NaN  {'venue': None, 'city': None, 'state': None, '...   \n",
       "2               NaN  {'venue': None, 'city': 'New York', 'state': '...   \n",
       "3               NaN  {'venue': None, 'city': 'New York', 'state': '...   \n",
       "4               NaN  {'venue': None, 'city': None, 'state': None, '...   \n",
       "\n",
       "                                              people  \\\n",
       "0  [{'person': 'Donald Trump', 'role': 'speaker',...   \n",
       "1  [{'person': 'Donald Trump', 'role': 'speaker',...   \n",
       "2  [{'person': 'Donald Trump', 'role': 'speaker',...   \n",
       "3  [{'person': 'Donald Trump', 'role': 'speaker',...   \n",
       "4  [{'person': 'Donald Trump', 'role': 'speaker',...   \n",
       "\n",
       "                                publisher  \\\n",
       "0  {'show': None, 'media_org': 'twitter'}   \n",
       "1  {'show': None, 'media_org': 'twitter'}   \n",
       "2       {'show': None, 'media_org': None}   \n",
       "3       {'show': None, 'media_org': None}   \n",
       "4  {'show': None, 'media_org': 'twitter'}   \n",
       "\n",
       "                                       text_filename title  \\\n",
       "0  2015-06-15 11.12.50 (Complete, As written) Twe...  None   \n",
       "1  2015-06-15 16.33.32 (Complete, As written) Twe...  None   \n",
       "2  2015-06-16 11.00.00 (Complete, As spoken) Spee...  None   \n",
       "3  2015-06-16 11.00.00 (Complete, As written) Spe...  None   \n",
       "4  2015-06-16 12.20.40 (Complete, As written) Twe...  None   \n",
       "\n",
       "        twitter_source  \n",
       "0  Twitter for Android  \n",
       "1   Twitter Web Client  \n",
       "2                 None  \n",
       "3                 None  \n",
       "4  Twitter for Android  "
      ]
     },
     "execution_count": 4,
     "metadata": {},
     "output_type": "execute_result"
    }
   ],
   "source": [
    "filename = 'trump_campaign_corpus.json'\n",
    "\n",
    "with open(PATH + filename) as data_file:\n",
    "    df = pd.read_json(data_file.read())\n",
    "    print(df.shape)\n",
    "            \n",
    "df.head()"
   ]
  },
  {
   "cell_type": "code",
   "execution_count": 45,
   "metadata": {},
   "outputs": [
    {
     "name": "stdout",
     "output_type": "stream",
     "text": [
      "Wow. Whoa. That is some group of people. Thousands.\n",
      "So nice, thank you very much. That's really nice. Thank you. It's great to be at Trump Tower. It's great to be in a wonderful city, New York. And it's an honor to have everybody here. This is beyond anybody's expectations. There's been no crowd like this.\n",
      "And, I can tell, some of the candidates, they went in. They didn't know the air-conditioner didn't work. They sweated like dogs.\n",
      "They didn't know the room was too big, because they didn't have anybody there. How are they going to beat ISIS? I don't think it's gonna happen.\n",
      "Our country is in serious trouble. We don't have victories anymore. We used to have victories, but we don't have them. When was the last time anybody saw us beating, let's say, China in a trade deal? They kill us. I beat China all the time. All the time.\n",
      "When did we beat Japan at anything? They send their cars over by the millions, and what do we do? When was the last time you saw a Chevrolet in Tokyo? It doesn't exist, folks. They beat us all the time.\n",
      "When do we beat Mexico at the border? They're laughing at us, at our stupidity. And now they are beating us economically. They are not our friend, believe me. But they're killing us economically.\n",
      "The U.S. has become a dumping ground for everybody else's problems.\n",
      "Thank you. It's true, and these are the best and the finest. When Mexico sends its people, they're not sending their best. They're not sending you. They're not sending you. They're sending people that have lots of problems, and they're bringing those problems with us. They're bringing drugs. They're bringing crime. They're rapists. And some, I assume, are good people.\n",
      "But I speak to border guards and they tell us what we're getting. And it only makes common sense. It only makes common sense. They're sending us not the right people.\n",
      "It's coming from more than Mexico. It's coming from all over South and Latin America, and it's coming probably -- probably -- from the Middle East. But we don't know. Because we have no protection and we have no competence, we don't know what's happening. And it's got to stop and it's got to stop fast.\n",
      "Islamic terrorism is eating up large portions of the Middle East. They've become rich. I'm in competition with them.\n",
      "They just built a hotel in Syria. Can you believe this? They built a hotel. When I have to build a hotel, I pay interest. They don't have to pay interest, because they took the oil that, when we left Iraq, I said we should've taken.\n",
      "So now ISIS has the oil, and what they don't have, Iran has. And in 19 -- and I will tell you this, and I said it very strongly, years ago, I said -- and I love the military, and I want to have the strongest military that we've ever had, and we need it more now than ever. But I said, \"Don't hit Iraq,\" because you're going to totally destabilize the Middle East. Iran is going to take over the Middle East, Iran and somebody else will get the oil, and it turned out that Iran is now taking over Iraq. Think of it. Iran is taking over Iraq, and they're taking it over big league.\n",
      "We spent $2 trillion in Iraq, $2 trillion. We lost thousands of lives, thousands in Iraq. We have wounded soldiers, who I love, I love -- they're great -- all over the place, thousands and thousands of wounded soldiers.\n",
      "And we have nothing. We can't even go there. We have nothing. And every time we give Iraq equipment, the first time a bullet goes off in the air, they leave it.\n",
      "Last week, I read 2,300 Humvees -- these are big vehicles -- were left behind for the enemy. 2,000? You would say maybe two, maybe four? 2,300 sophisticated vehicles, they ran, and the enemy took them.\n",
      "You're right.\n",
      "Last quarter, it was just announced our gross domestic product -- a sign of strength, right? But not for us. It was below zero. Whoever heard of this? It's never below zero.\n",
      "Our labor participation rate was the worst since 1978. But think of it, GDP below zero, horrible labor participation rate.\n",
      "And our real unemployment is anywhere from 18 to 20 percent. Don't believe the 5.6. Don't believe it.\n",
      "That's right. A lot of people up there can't get jobs. They can't get jobs, because there are no jobs, because China has our jobs and Mexico has our jobs. They all have jobs.\n",
      "But the real number, the real number is anywhere from 18 to 19 and maybe even 21 percent, and nobody talks about it, because it's a statistic that's full of nonsense.\n",
      "Our enemies are getting stronger and stronger by the way, and we as a country are getting weaker. Even our nuclear arsenal doesn't work.\n",
      "It came out recently they have equipment that is 30 years old. They don't know if it worked. And I thought it was horrible when it was broadcast on television, because boy, does that send signals to Putin and all of the other people that look at us and they say, \"That is a group of people, and that is a nation that truly has no clue. They don't know what they're doing. They don't know what they're doing.\"\n",
      "We have a disaster called the big lie: Obamacare. Obamacare.\n",
      "Yesterday, it came out that costs are going for people up 29, 39, 49, and even 55 percent, and deductibles are through the roof. You have to be hit by a tractor, literally, a tractor, to use it, because the deductibles are so high, it's virtually useless. It's virtually useless. It is a disaster.\n",
      "And remember the $5 billion Website? $5 billion we spent on a Website, and to this day it doesn't work. A $5 billion Website.\n",
      "I have so many Websites, I have them all over the place. I hire people, they do a Website. It costs me $3. $5 billion Website.\n",
      "Well, you need somebody, because politicians are all talk, no action. Nothing's gonna get done. They will not bring us -- believe me -- to the promised land. They will not.\n",
      "As an example, I've been on the circuit making speeches, and I hear my fellow Republicans. And they're wonderful people. I like them. They all want me to support them. They don't know how to bring it about. They come up to my office. I'm meeting with three of them in the next week. And they don't know -- \"Are you running? Are you not running? Could we have your support? What do we do? How do we do it?\"\n",
      "I like them. And I hear their speeches. And they don't talk jobs and they don't talk China. When was the last time you heard China is killing us? They're devaluing their currency to a level that you wouldn't believe. It makes it impossible for our companies to compete, impossible. They're killing us.\n",
      "But you don't hear that from anybody else. You don't hear it from anybody else. And I watch the speeches.\n",
      "Thank you.\n",
      "I watch the speeches of these people, and they say the sun will rise, the moon will set, all sorts of wonderful things will happen. And people are saying, \"What's going on? I just want a job. Just get me a job. I don't need the rhetoric. I want a job.\"\n",
      "And that's what's happening. And it's going to get worse, because remember, Obamacare really kicks in in '16, 2016. Obama is going to be out playing golf. He might be on one of my courses. I would invite him. I actually would say I have the best courses in the world, so I'd say, tell you what, if he wants to -- I have one right next to the White House, right on the Potomac. If he'd like to play, that's fine.\n",
      "In fact, I'd love him to leave early and play, that would be a very good thing.\n",
      "But Obamacare kicks in in 2016. Really big league. It is going to be amazingly destructive. Doctors are quitting. I have a friend who's a doctor, and he said to me the other day, \"Donald, I never saw anything like it. I have more accountants than I have nurses. It's a disaster. My patients are beside themselves. They had a plan that was good. They have no plan now.\"\n",
      "We have to repeal Obamacare, and it can be -- and -- and it can be replaced with something much better for everybody. Let it be for everybody. But much better and much less expensive for people and for the government. And we can do it.\n",
      "So I've watched the politicians. I've dealt with them all my life. If you can't make a good deal with a politician, then there's something wrong with you. You're certainly not very good. And that's what we have representing us. They will never make America great again. They don't even have a chance. They're controlled fully -- they're controlled fully by the lobbyists, by the donors, and by the special interests, fully.\n",
      "Yes, they control them. Hey, I have lobbyists. I have to tell you. I have lobbyists that can produce anything for me. They're great. But you know what? it won't happen. It won't happen. Because we have to stop doing things for some people, but for this country, it's destroying our country. We have to stop, and it has to stop now.\n",
      "N\n",
      "o\n",
      "w\n",
      ",\n",
      " \n",
      "o\n",
      "u\n",
      "r\n",
      " \n",
      "c\n",
      "o\n",
      "u\n",
      "n\n",
      "t\n",
      "r\n",
      "y\n",
      " \n",
      "n\n",
      "e\n",
      "e\n",
      "d\n",
      "s\n",
      " \n",
      "-\n",
      "-\n",
      " \n",
      "o\n",
      "u\n",
      "r\n",
      " \n",
      "c\n",
      "o\n",
      "u\n",
      "n\n",
      "t\n",
      "r\n",
      "y\n",
      " \n",
      "n\n",
      "e\n",
      "e\n",
      "d\n",
      "s\n",
      " \n",
      "a\n",
      " \n",
      "t\n",
      "r\n",
      "u\n",
      "l\n",
      "y\n",
      " \n",
      "g\n",
      "r\n",
      "e\n",
      "a\n",
      "t\n",
      " \n",
      "l\n",
      "e\n",
      "a\n",
      "d\n",
      "e\n",
      "r\n",
      ",\n",
      " \n",
      "a\n",
      "n\n",
      "d\n",
      " \n",
      "w\n",
      "e\n",
      " \n",
      "n\n",
      "e\n",
      "e\n",
      "d\n",
      " \n",
      "a\n",
      " \n",
      "t\n",
      "r\n",
      "u\n",
      "l\n",
      "y\n",
      " \n",
      "g\n",
      "r\n",
      "e\n",
      "a\n",
      "t\n",
      " \n",
      "l\n",
      "e\n",
      "a\n",
      "d\n",
      "e\n",
      "r\n",
      " \n",
      "n\n",
      "o\n",
      "w\n",
      ".\n",
      " \n",
      "W\n",
      "e\n",
      " \n",
      "n\n",
      "e\n",
      "e\n",
      "d\n",
      " \n",
      "a\n",
      " \n",
      "l\n",
      "e\n",
      "a\n",
      "d\n",
      "e\n",
      "r\n",
      " \n",
      "t\n",
      "h\n",
      "a\n",
      "t\n",
      " \n",
      "w\n",
      "r\n",
      "o\n",
      "t\n",
      "e\n",
      " \n",
      "\"\n",
      "T\n",
      "h\n",
      "e\n",
      " \n",
      "A\n",
      "r\n",
      "t\n",
      " \n",
      "o\n",
      "f\n",
      " \n",
      "t\n",
      "h\n",
      "e\n",
      " \n",
      "D\n",
      "e\n",
      "a\n",
      "l\n",
      ".\n",
      "\"\n",
      "We need a leader that can bring back our jobs, can bring back our manufacturing, can bring back our military, can take care of our vets. Our vets have been abandoned.\n",
      "And we also need a cheerleader.\n",
      "You know, when President Obama was elected, I said, \"Well, the one thing, I think he'll do well. I think he'll be a great cheerleader for the country. I think he'd be a great spirit.\"\n",
      "He was vibrant. He was young. I really thought that he would be a great cheerleader.\n",
      "He's not a leader. That's true. You're right about that.\n",
      "But he wasn't a cheerleader. He's actually a negative force. He's been a negative force. He wasn't a cheerleader; he was the opposite.\n",
      "We need somebody that can take the brand of the United States and make it great again. It's not great again.\n",
      "We need -- we need somebody -- we need somebody that literally will take this country and make it great again. We can do that.\n",
      "And, I will tell you, I love my life. I have a wonderful family. They're saying, \"Dad, you're going to do something that's going to be so tough.\"\n",
      "You know, all of my life, I've heard that a truly successful person, a really, really successful person and even modestly successful cannot run for public office. Just can't happen. And yet that's the kind of mindset that you need to make this country great again.\n",
      "So ladies and gentlemen...\n",
      "I am officially running...\n",
      "... for president of the United States, and we are going to make our country great again.\n",
      "It can happen. Our country has tremendous potential. We have tremendous people.\n",
      "We have people that aren't working. We have people that have no incentive to work. But they're going to have incentive to work, because the greatest social program is a job. And they'll be proud, and they'll love it, and they'll make much more than they would've ever made, and they'll be -- they'll be doing so well, and we're going to be thriving as a country, thriving. It can happen.\n",
      "I will be the greatest jobs president that God ever created. I tell you that.\n",
      "I'll bring back our jobs from China, from Mexico, from Japan, from so many places. I'll bring back our jobs, and I'll bring back our money.\n",
      "Right now, think of this: We owe China $1.3 trillion. We owe Japan more than that. So they come in, they take our jobs, they take our money, and then they loan us back the money, and we pay them in interest, and then the dollar goes up so their deal's even better.\n",
      "How stupid are our leaders? How stupid are these politicians to allow this to happen? How stupid are they?\n",
      "I'm going to tell you -- thank you. I'm going to tell you a couple of stories about trade, because I'm totally against the trade bill for a number of reasons.\n",
      "Number one, the people negotiating don't have a clue. Our president doesn't have a clue. He's a bad negotiator.\n",
      "He's the one that did Bergdahl. We get Bergdahl, they get five killer terrorists that everybody wanted over there.\n",
      "We get Bergdahl. We get a traitor. We get a no-good traitor, and they get the five people that they wanted for years, and those people are now back on the battlefield trying to kill us. That's the negotiator we have.\n",
      "Take a look at the deal he's making with Iran. He makes that deal, Israel maybe won't exist very long. It's a disaster, and we have to protect Israel. But...\n",
      "So we need people -- I'm a free trader. But the problem with free trade is you need really talented people to negotiate for you. If you don't have talented people, if you don't have great leadership, if you don't have people that know business, not just a political hack that got the job because he made a contribution to a campaign, which is the way all jobs, just about, are gotten, free trade terrible.\n",
      "Free trade can be wonderful if you have smart people, but we have people that are stupid. We have people that aren't smart. And we have people that are controlled by special interests. And it's just not going to work.\n",
      "So, here's a couple of stories happened recently. A friend of mine is a great manufacturer. And, you know, China comes over and they dump all their stuff, and I buy it. I buy it, because, frankly, I have an obligation to buy it, because they devalue their currency so brilliantly, they just did it recently, and nobody thought they could do it again.\n",
      "But with all our problems with Russia, with all our problems with everything -- everything, they got away with it again. And it's impossible for our people here to compete.\n",
      "So I want to tell you this story. A friend of mine who's a great manufacturer, calls me up a few weeks ago. He's very upset. I said, \"What's your problem?\"\n",
      "He said, \"You know, I make great product.\"\n",
      "And I said, \"I know. I know that because I buy the product.\"\n",
      "He said, \"I can't get it into China. They won't accept it. I sent a boat over and they actually sent it back. They talked about environmental, they talked about all sorts of crap that had nothing to do with it.\"\n",
      "I said, \"Oh, wait a minute, that's terrible. Does anyone know this?\"\n",
      "He said, \"Yeah, they do it all the time with other people.\"\n",
      "I said, \"They send it back?\"\n",
      "\"Yeah. So I finally got it over there and they charged me a big tariff. They're not supposed to be doing that. I told them.\"\n",
      "Now, they do charge you tariff on trucks, when we send trucks and other things over there.\n",
      "Ask Boeing. They wanted Boeing's secrets. They wanted their patents and all their secrets before they agreed to buy planes from Boeing.\n",
      "Hey, I'm not saying they're stupid. I like China. I sell apartments for -- I just sold an apartment for $15 million to somebody from China. Am I supposed to dislike them? I own a big chunk of the Bank of America Building at 1290 Avenue of the Americas, that I got from China in a war. Very valuable.\n",
      "I love China. The biggest bank in the world is from China. You know where their United States headquarters is located? In this building, in Trump Tower. I love China. People say, \"Oh, you don't like China?\"\n",
      "No, I love them. But their leaders are much smarter than our leaders, and we can't sustain ourself with that. There's too much -- it's like -- it's like take the New England Patriots and Tom Brady and have them play your high school football team. That's the difference between China's leaders and our leaders.\n",
      "They are ripping us. We are rebuilding China. We're rebuilding many countries. China, you go there now, roads, bridges, schools, you never saw anything like it. They have bridges that make the George Washington Bridge look like small potatoes. And they're all over the place.\n",
      "We have all the cards, but we don't know how to use them. We don't even know that we have the cards, because our leaders don't understand the game. We could turn off that spigot by charging them tax until they behave properly.\n",
      "Now they're going militarily. They're building a military island in the middle of the South China sea. A military island. Now, our country could never do that because we'd have to get environmental clearance, and the environmentalist wouldn't let our country -- we would never build in an ocean. They built it in about one year, this massive military port.\n",
      "They're building up their military to a point that is very scary. You have a problem with ISIS. You have a bigger problem with China.\n",
      "And, in my opinion, the new China, believe it or not, in terms of trade, is Mexico.\n",
      "So this man tells me about the manufacturing. I say, \"That's a terrible story. I hate to hear it.\"\n",
      "But I have another one, Ford.\n",
      "So Mexico takes a company, a car company that was going to build in Tennessee, rips it out. Everybody thought the deal was dead. Reported it in the Wall Street Journal recently. Everybody thought it was a done deal. It's going in and that's going to be it, going into Tennessee. Great state, great people. All of a sudden, at the last moment, this big car manufacturer, foreign, announces they're not going to Tennessee. They're gonna spend their $1 billion in Mexico instead. Not good.\n",
      "Now, Ford announces a few weeks ago that Ford is going to build a $2.5 billion car and truck and parts manufacturing plant in Mexico. $2.5 billion, it's going to be one of the largest in the world. Ford. Good company.\n",
      "So I announced that I'm running for president. I would...\n",
      "... one of the early things I would do, probably before I even got in -- and I wouldn't even use -- you know, I have -- I know the smartest negotiators in the world. I know the good ones. I know the bad ones. I know the overrated ones.\n",
      "You get a lot of them that are overrated. They're not good. They think they are. They get good stories, because the newspapers get buffaloed. But they're not good.\n",
      "But I know the negotiators in the world, and I put them one for each country. Believe me, folks. We will do very, very well, very, very well.\n",
      "But I wouldn't even waste my time with this one. I would call up the head of Ford, who I know. If I was president, I'd say, \"Congratulations. I understand that you're building a nice $2.5 billion car factory in Mexico and that you're going to take your cars and sell them to the United States zero tax, just flow them across the border.\"\n",
      "And you say to yourself, \"How does that help us,\" right? \"How does that help us? Where is that good\"? It's not.\n",
      "So I would say, \"Congratulations. That's the good news. Let me give you the bad news. Every car and every truck and every part manufactured in this plant that comes across the border, we're going to charge you a 35 percent tax, and that tax is going to be paid simultaneously with the transaction, and that's it.\n",
      "And guess what? No problem. They're going to build in Mexico. They're going to take away thousands of jobs. It's very bad for us.\n",
      "So under President Trump, here's what would happen:\n",
      "The head of Ford will call me back, I would say within an hour after I told them the bad news. But it could be he'd want to be cool, and he'll wait until the next day. You know, they want to be a little cool.\n",
      "And he'll say, \"Please, please, please.\" He'll beg for a little while, and I'll say, \"No interest.\" Then he'll call all sorts of political people, and I'll say, \"Sorry, fellas. No interest,\" because I don't need anybody's money. It's nice. I don't need anybody's money.\n",
      "And by the way, I'm not even saying that in a -- that's the kind of mindset, that's the kind of thinking you need for this country.\n",
      "So -- because we got to make the country rich.\n",
      "It sounds crass. Somebody said, \"Oh, that's crass.\" It's not crass.\n",
      "We got $18 trillion in debt. We got nothing but problems.\n",
      "We got a military that needs equipment all over the place. We got nuclear weapons that are obsolete.\n",
      "We've got nothing. We've got Social Security that's going to be destroyed if somebody like me doesn't bring money into the country. All these other people want to cut the hell out of it. I'm not going to cut it at all; I'm going to bring money in, and we're going to save it.\n",
      "But here's what's going to happen:\n",
      "After I'm called by 30 friends of mine who contributed to different campaigns, after I'm called by all of the special interests and by the -- the donors and by the lobbyists -- and they have zero chance at convincing me, zero -- I'll get a call the next day from the head of Ford. He'll say. \"Please reconsider,\" I'll say no.\n",
      "He'll say, \"Mr. President, we've decided to move the plant back to the United States, and we're not going to build it in Mexico.\" That's it. They have no choice. They have no choice.\n",
      "There are hundreds of things like that. I'll give you another example. Saudi Arabia, they make $1 billion a day. $1 billion a day. I love the Saudis. Many are in this building. They make a billion dollars a day. Whenever they have problems, we send over the ships. We say \"we're gonna protect.\" What are we doing? They've got nothing but money.\n",
      "If the right person asked them, they'd pay a fortune. They wouldn't be there except for us.\n",
      "And believe me, you look at the border with Yemen. You remember Obama a year ago, Yemen was a great victory. Two weeks later, the place was blown up. Everybody got out -- and they kept our equipment.\n",
      "They always keep our equipment. We ought to send used equipment, right? They always keep our equipment. We ought to send some real junk, because, frankly, it would be -- we ought to send our surplus. We're always losing this gorgeous brand-new stuff.\n",
      "But look at that border with Saudi Arabia. Do you really think that these people are interested in Yemen? Saudi Arabia without us is gone. They're gone.\n",
      "And I'm the one that made all of the right predictions about Iraq. You know, all of these politicians that I'm running against now -- it's so nice to say I'm running as opposed to if I run, if I run. I'm running.\n",
      "But all of these politicians that I'm running against now, they're trying to disassociate. I mean, you looked at Bush, it took him five days to answer the question on Iraq. He couldn't answer the question. He didn't know. I said, \"Is he intelligent?\"\n",
      "Then I looked at Rubio. He was unable to answer the question, is Iraq a good thing or bad thing? He didn't know. He couldn't answer the question.\n",
      "How are these people gonna lead us? How are we gonna -- how are we gonna go back and make it great again? We can't. They don't have a clue. They can't lead us. They can't. They can't even answer simple questions. It was terrible.\n",
      "But Saudi Arabia is in big, big trouble. Now, thanks to fracking and other things, the oil is all over the place. And I used to say it, there are ships at sea, and this was during the worst crisis, that were loaded up with oil, and the cartel kept the price up, because, again, they were smarter than our leaders. They were smarter than our leaders.\n",
      "There is so much wealth out there that can make our country so rich again, and therefore make it great again. Because we need money. We're dying. We're dying. We need money. We have to do it. And we need the right people.\n",
      "So Ford will come back. They'll all come back. And I will say this, this is going to be an election, in my opinion, that's based on competence.\n",
      "Somebody said -- thank you, darlin'.\n",
      "Somebody said to me the other day, a reporter, a very nice reporter, \"But, Mr. Trump, you're not a nice person.\"\n",
      "That's true. But actually I am. I think I am a nice person. People that know me, like me. Does my family like me? I think so, right. Look at my family. I'm proud of my family.\n",
      "By the way, speaking of my family, Melania, Barron, Kai, Donnie, Don, Vanessa, Tiffany, Evanka did a great job. Did she do a great job?\n",
      "Great. Jared, Laura and Eric, I'm very proud of my family. They're a great family.\n",
      "So the reporter said to me the other day, \"But, Mr. Trump, you're not a nice person. How can you get people to vote for you?\"\n",
      "I said, \"I don't know.\" I said, \"I think that number one, I am a nice person. I give a lot of money away to charities and other things. I think I'm actually a very nice person.\"\n",
      "But, I said, \"This is going to be an election that's based on competence, because people are tired of these nice people. And they're tired of being ripped off by everybody in the world. And they're tired of spending more money on education than any nation in the world per capita, than any nation in the world, and we are 26th in the world, 25 countries are better than us in education. And some of them are like third world countries. But we're becoming a third word country, because of our infrastructure, our airports, our roads, everything. So one of the things I did, and I said, you know what I'll do. I'll do it. Because a lot of people said, \"He'll never run. Number one, he won't want to give up his lifestyle.\"\n",
      "They're right about that, but I'm doing it.\n",
      "Number two, I'm a private company, so nobody knows what I'm worth. And the one thing is that when you run, you have to announce and certify to all sorts of governmental authorities your net worth.\n",
      "So I said, \"That's OK.\" I'm proud of my net worth. I've done an amazing job.\n",
      "I started off -- thank you -- I started off in a small office with my father in Brooklyn and Queens, and my father said -- and I love my father. I learned so much. He was a great negotiator. I learned so much just sitting at his feet playing with blocks listening to him negotiate with subcontractors. But I learned a lot.\n",
      "But he used to say, \"Donald, don't go into Manhattan. That's the big leagues. We don't know anything about that. Don't do it.\"\n",
      "I said, \"I gotta go into Manhattan. I gotta build those big buildings. I gotta do it, Dad. I've gotta do it.\"\n",
      "And after four or five years in Brooklyn, I ventured into Manhattan and did a lot of great deals -- the Grand Hyatt Hotel. I was responsible for the convention center on the west side. I did a lot of great deals, and I did them early and young. And now I'm building all over the world, and I love what I'm doing.\n",
      "But they all said, a lot of the pundits on television, \"Well, Donald will never run, and one of the main reasons is he's private and he's probably not as successful as everybody thinks.\"\n",
      "So I said to myself, you know, nobody's ever going to know unless I run, because I'm really proud of my success. I really am.\n",
      "I've employed -- I've employed tens of thousands of people over my lifetime. That means medical. That means education. That means everything.\n",
      "So a large accounting firm and my accountants have been working for months, because it's big and complex, and they've put together a statement, a financial statement, just a summary. But everything will be filed eventually with the government, and we don't extensions or anything. We'll be filing it right on time. We don't need anything.\n",
      "And it was even reported incorrectly yesterday, because they said, \"He had assets of $9 billion.\" So I said, \"No, that's the wrong number. That's the wrong number. Not assets.\"\n",
      "So they put together this. And before I say it, I have to say this. I made it the old-fashioned way. It's real estate. You know, it's real estate.\n",
      "It's labor, and it's unions good and some bad and lots of people that aren't in unions, and it's all over the place and building all over the world.\n",
      "And I have assets -- big accounting firm, one of the most highly respected -- 9 billion 240 million dollars.\n",
      "And I have liabilities of about $500 million. That's long-term debt, very low interest rates.\n",
      "In fact, one of the big banks came to me and said, \"Donald, you don't have enough borrowings. Could we loan you $4 billion\"? I said, \"I don't need it. I don't want it. And I've been there. I don't want it.\"\n",
      "But in two seconds, they give me whatever I wanted. So I have a total net worth, and now with the increase, it'll be well-over $10 billion. But here, a total net worth of -- net worth, not assets, not -- a net worth, after all debt, after all expenses, the greatest assets -- Trump Tower, 1290 Avenue of the Americas, Bank of America building in San Francisco, 40 Wall Street, sometimes referred to as the Trump building right opposite the New York -- many other places all over the world.\n",
      "So the total is $8,737,540,00.\n",
      "Now I'm not doing that...\n",
      "I'm not doing that to brag, because you know what? I don't have to brag. I don't have to, believe it or not.\n",
      "I'm doing that to say that that's the kind of thinking our country needs. We need that thinking. We have the opposite thinking.\n",
      "We have losers. We have losers. We have people that don't have it. We have people that are morally corrupt. We have people that are selling this country down the drain.\n",
      "So I put together this statement, and the only reason I'm telling you about it today is because we really do have to get going, because if we have another three or four years -- you know, we're at $8 trillion now. We're soon going to be at $20 trillion. According to the economists -- who I'm not big believers in, but, nevertheless, this is what they're saying -- that $24 trillion -- we're very close -- that's the point of no return. $24 trillion. We will be there soon. That's when we become Greece. That's when we become a country that's unsalvageable. And we're gonna be there very soon. We're gonna be there very soon.\n",
      "S\n",
      "o\n",
      ",\n",
      " \n",
      "j\n",
      "u\n",
      "s\n",
      "t\n",
      " \n",
      "t\n",
      "o\n",
      " \n",
      "s\n",
      "u\n",
      "m\n",
      " \n",
      "u\n",
      "p\n",
      ",\n",
      " \n",
      "I\n",
      " \n",
      "w\n",
      "o\n",
      "u\n",
      "l\n",
      "d\n",
      " \n",
      "d\n",
      "o\n",
      " \n",
      "v\n",
      "a\n",
      "r\n",
      "i\n",
      "o\n",
      "u\n",
      "s\n",
      " \n",
      "t\n",
      "h\n",
      "i\n",
      "n\n",
      "g\n",
      "s\n",
      " \n",
      "v\n",
      "e\n",
      "r\n",
      "y\n",
      " \n",
      "q\n",
      "u\n",
      "i\n",
      "c\n",
      "k\n",
      "l\n",
      "y\n",
      ".\n",
      " \n",
      "I\n",
      " \n",
      "w\n",
      "o\n",
      "u\n",
      "l\n",
      "d\n",
      " \n",
      "r\n",
      "e\n",
      "p\n",
      "e\n",
      "a\n",
      "l\n",
      " \n",
      "a\n",
      "n\n",
      "d\n",
      " \n",
      "r\n",
      "e\n",
      "p\n",
      "l\n",
      "a\n",
      "c\n",
      "e\n",
      " \n",
      "t\n",
      "h\n",
      "e\n",
      " \n",
      "b\n",
      "i\n",
      "g\n",
      " \n",
      "l\n",
      "i\n",
      "e\n",
      ",\n",
      " \n",
      "O\n",
      "b\n",
      "a\n",
      "m\n",
      "a\n",
      "c\n",
      "a\n",
      "r\n",
      "e\n",
      ".\n",
      "I\n",
      " \n",
      "w\n",
      "o\n",
      "u\n",
      "l\n",
      "d\n",
      " \n",
      "b\n",
      "u\n",
      "i\n",
      "l\n",
      "d\n",
      " \n",
      "a\n",
      " \n",
      "g\n",
      "r\n",
      "e\n",
      "a\n",
      "t\n",
      " \n",
      "w\n",
      "a\n",
      "l\n",
      "l\n",
      ",\n",
      " \n",
      "a\n",
      "n\n",
      "d\n",
      " \n",
      "n\n",
      "o\n",
      "b\n",
      "o\n",
      "d\n",
      "y\n",
      " \n",
      "b\n",
      "u\n",
      "i\n",
      "l\n",
      "d\n",
      "s\n",
      " \n",
      "w\n",
      "a\n",
      "l\n",
      "l\n",
      "s\n",
      " \n",
      "b\n",
      "e\n",
      "t\n",
      "t\n",
      "e\n",
      "r\n",
      " \n",
      "t\n",
      "h\n",
      "a\n",
      "n\n",
      " \n",
      "m\n",
      "e\n",
      ",\n",
      " \n",
      "b\n",
      "e\n",
      "l\n",
      "i\n",
      "e\n",
      "v\n",
      "e\n",
      " \n",
      "m\n",
      "e\n",
      ",\n",
      " \n",
      "a\n",
      "n\n",
      "d\n",
      " \n",
      "I\n",
      "'\n",
      "l\n",
      "l\n",
      " \n",
      "b\n",
      "u\n",
      "i\n",
      "l\n",
      "d\n",
      " \n",
      "t\n",
      "h\n",
      "e\n",
      "m\n",
      " \n",
      "v\n",
      "e\n",
      "r\n",
      "y\n",
      " \n",
      "i\n",
      "n\n",
      "e\n",
      "x\n",
      "p\n",
      "e\n",
      "n\n",
      "s\n",
      "i\n",
      "v\n",
      "e\n",
      "l\n",
      "y\n",
      ",\n",
      " \n",
      "I\n",
      " \n",
      "w\n",
      "i\n",
      "l\n",
      "l\n",
      " \n",
      "b\n",
      "u\n",
      "i\n",
      "l\n",
      "d\n",
      " \n",
      "a\n",
      " \n",
      "g\n",
      "r\n",
      "e\n",
      "a\n",
      "t\n",
      ",\n",
      " \n",
      "g\n",
      "r\n",
      "e\n",
      "a\n",
      "t\n",
      " \n",
      "w\n",
      "a\n",
      "l\n",
      "l\n",
      " \n",
      "o\n",
      "n\n",
      " \n",
      "o\n",
      "u\n",
      "r\n",
      " \n",
      "s\n",
      "o\n",
      "u\n",
      "t\n",
      "h\n",
      "e\n",
      "r\n",
      "n\n",
      " \n",
      "b\n",
      "o\n",
      "r\n",
      "d\n",
      "e\n",
      "r\n",
      ".\n",
      " \n",
      "A\n",
      "n\n",
      "d\n",
      " \n",
      "I\n",
      " \n",
      "w\n",
      "i\n",
      "l\n",
      "l\n",
      " \n",
      "h\n",
      "a\n",
      "v\n",
      "e\n",
      " \n",
      "M\n",
      "e\n",
      "x\n",
      "i\n",
      "c\n",
      "o\n",
      " \n",
      "p\n",
      "a\n",
      "y\n",
      " \n",
      "f\n",
      "o\n",
      "r\n",
      " \n",
      "t\n",
      "h\n",
      "a\n",
      "t\n",
      " \n",
      "w\n",
      "a\n",
      "l\n",
      "l\n",
      ".\n",
      "Mark my words.\n",
      "Nobody would be tougher on ISIS than Donald Trump. Nobody.\n",
      "I will find -- within our military, I will find the General Patton or I will find General MacArthur, I will find the right guy. I will find the guy that's going to take that military and make it really work. Nobody, nobody will be pushing us around.\n",
      "I will stop Iran from getting nuclear weapons. And we won't be using a man like Secretary Kerry that has absolutely no concept of negotiation, who's making a horrible and laughable deal, who's just being tapped along as they make weapons right now, and then goes into a bicycle race at 72 years old, and falls and breaks his leg. I won't be doing that. And I promise I will never be in a bicycle race. That I can tell you.\n",
      "I will immediately terminate President Obama's illegal executive order on immigration, immediately.\n",
      "Fully support and back up the Second Amendment.\n",
      "Now, it's very interesting. Today I heard it. Through stupidity, in a very, very hard core prison, interestingly named Clinton, two vicious murderers, two vicious people escaped, and nobody knows where they are. And a woman was on television this morning, and she said, \"You know, Mr. Trump,\" and she was telling other people, and I actually called her, and she said, \"You know, Mr. Trump, I always was against guns. I didn't want guns. And now since this happened\" -- it's up in the prison area -- \"my husband and I are finally in agreement, because he wanted the guns. We now have a gun on every table. We're ready to start shooting.\"\n",
      "I said, \"Very interesting.\"\n",
      "So protect the Second Amendment.\n",
      "End -- end Common Core. Common Core should -- it is a disaster. Bush is totally in favor of Common Core. I don't see how he can possibly get the nomination. He's weak on immigration. He's in favor of Common Core. How the hell can you vote for this guy? You just can't do it. We have to end -- education has to be local.\n",
      "Rebuild the country's infrastructure.\n",
      "Nobody can do that like me. Believe me. It will be done on time, on budget, way below cost, way below what anyone ever thought.\n",
      "I look at the roads being built all over the country, and I say I can build those things for one-third. What they do is unbelievable, how bad.\n",
      "You know, we're building on Pennsylvania Avenue, the Old Post Office, we're converting it into one of the world's great hotels. It's gonna be the best hotel in Washington, D.C. We got it from the General Services Administration in Washington. The Obama administration. We got it. It was the most highly sought after -- or one of them, but I think the most highly sought after project in the history of General Services. We got it. People were shocked, Trump got it.\n",
      "Well, I got it for two reasons. Number one, we're really good. Number two, we had a really good plan. And I'll add in the third, we had a great financial statement. Because the General Services, who are terrific people, by the way, and talented people, they wanted to do a great job. And they wanted to make sure it got built. So we have to rebuild our infrastructure, our bridges, our roadways, our airports. You come into La Guardia Airport, it's like we're in a third world country. You look at the patches and the 40-year-old floor. They throw down asphalt, and they throw.\n",
      "You look at these airports, we are like a third world country. And I come in from China and I come in from Qatar and I come in from different places, and they have the most incredible airports in the world. You come to back to this country and you have LAX, disaster. You have all of these disastrous airports. We have to rebuild our infrastructure.\n",
      "Save Medicare, Medicaid and Social Security without cuts. Have to do it.\n",
      "Get rid of the fraud. Get rid of the waste and abuse, but save it. People have been paying it for years. And now many of these candidates want to cut it. You save it by making the United States, by making us rich again, by taking back all of the money that's being lost.\n",
      "Renegotiate our foreign trade deals.\n",
      "Reduce our $18 trillion in debt, because, believe me, we're in a bubble. We have artificially low interest rates. We have a stock market that, frankly, has been good to me, but I still hate to see what's happening. We have a stock market that is so bloated.\n",
      "Be careful of a bubble because what you've seen in the past might be small potatoes compared to what happens. So be very, very careful.\n",
      "And strengthen our military and take care of our vets. So, so important.\n",
      "S\n",
      "a\n",
      "d\n",
      "l\n",
      "y\n",
      ",\n",
      " \n",
      "t\n",
      "h\n",
      "e\n",
      " \n",
      "A\n",
      "m\n",
      "e\n",
      "r\n",
      "i\n",
      "c\n",
      "a\n",
      "n\n",
      " \n",
      "d\n",
      "r\n",
      "e\n",
      "a\n",
      "m\n",
      " \n",
      "i\n",
      "s\n",
      " \n",
      "d\n",
      "e\n",
      "a\n",
      "d\n",
      ".\n",
      "But if I get elected president I will bring it back bigger and better and stronger than ever before, and we will make America great again.\n",
      "Thank you. Thank you very much.\n",
      " Wow. Whoa. That is some group of people. Thousands. So nice, thank you very much. That's really nice. Thank you. It's great to be at Trump Tower. It's great to be in a wonderful city, New York. And it's an honor to have everybody here. This is beyond anybody's expectations. There's been no crowd like this. And, I can tell, some of the candidates, they went in. They didn't know the air-conditioner didn't work. They sweated like dogs. They didn't know the room was too big, because they didn't have anybody there. How are they going to beat ISIS? I don't think it's gonna happen. Our country is in serious trouble. We don't have victories anymore. We used to have victories, but we don't have them. When was the last time anybody saw us beating, let's say, China in a trade deal? They kill us. I beat China all the time. All the time. When did we beat Japan at anything? They send their cars over by the millions, and what do we do? When was the last time you saw a Chevrolet in Tokyo? It doesn't exist, folks. They beat us all the time. When do we beat Mexico at the border? They're laughing at us, at our stupidity. And now they are beating us economically. They are not our friend, believe me. But they're killing us economically. The U.S. has become a dumping ground for everybody else's problems. Thank you. It's true, and these are the best and the finest. When Mexico sends its people, they're not sending their best. They're not sending you. They're not sending you. They're sending people that have lots of problems, and they're bringing those problems with us. They're bringing drugs. They're bringing crime. They're rapists. And some, I assume, are good people. But I speak to border guards and they tell us what we're getting. And it only makes common sense. It only makes common sense. They're sending us not the right people. It's coming from more than Mexico. It's coming from all over South and Latin America, and it's coming probably -- probably -- from the Middle East. But we don't know. Because we have no protection and we have no competence, we don't know what's happening. And it's got to stop and it's got to stop fast. Islamic terrorism is eating up large portions of the Middle East. They've become rich. I'm in competition with them. They just built a hotel in Syria. Can you believe this? They built a hotel. When I have to build a hotel, I pay interest. They don't have to pay interest, because they took the oil that, when we left Iraq, I said we should've taken. So now ISIS has the oil, and what they don't have, Iran has. And in 19 -- and I will tell you this, and I said it very strongly, years ago, I said -- and I love the military, and I want to have the strongest military that we've ever had, and we need it more now than ever. But I said, \"Don't hit Iraq,\" because you're going to totally destabilize the Middle East. Iran is going to take over the Middle East, Iran and somebody else will get the oil, and it turned out that Iran is now taking over Iraq. Think of it. Iran is taking over Iraq, and they're taking it over big league. We spent $2 trillion in Iraq, $2 trillion. We lost thousands of lives, thousands in Iraq. We have wounded soldiers, who I love, I love -- they're great -- all over the place, thousands and thousands of wounded soldiers. And we have nothing. We can't even go there. We have nothing. And every time we give Iraq equipment, the first time a bullet goes off in the air, they leave it. Last week, I read 2,300 Humvees -- these are big vehicles -- were left behind for the enemy. 2,000? You would say maybe two, maybe four? 2,300 sophisticated vehicles, they ran, and the enemy took them. You're right. Last quarter, it was just announced our gross domestic product -- a sign of strength, right? But not for us. It was below zero. Whoever heard of this? It's never below zero. Our labor participation rate was the worst since 1978. But think of it, GDP below zero, horrible labor participation rate. And our real unemployment is anywhere from 18 to 20 percent. Don't believe the 5.6. Don't believe it. That's right. A lot of people up there can't get jobs. They can't get jobs, because there are no jobs, because China has our jobs and Mexico has our jobs. They all have jobs. But the real number, the real number is anywhere from 18 to 19 and maybe even 21 percent, and nobody talks about it, because it's a statistic that's full of nonsense. Our enemies are getting stronger and stronger by the way, and we as a country are getting weaker. Even our nuclear arsenal doesn't work. It came out recently they have equipment that is 30 years old. They don't know if it worked. And I thought it was horrible when it was broadcast on television, because boy, does that send signals to Putin and all of the other people that look at us and they say, \"That is a group of people, and that is a nation that truly has no clue. They don't know what they're doing. They don't know what they're doing.\" We have a disaster called the big lie: Obamacare. Obamacare. Yesterday, it came out that costs are going for people up 29, 39, 49, and even 55 percent, and deductibles are through the roof. You have to be hit by a tractor, literally, a tractor, to use it, because the deductibles are so high, it's virtually useless. It's virtually useless. It is a disaster. And remember the $5 billion Website? $5 billion we spent on a Website, and to this day it doesn't work. A $5 billion Website. I have so many Websites, I have them all over the place. I hire people, they do a Website. It costs me $3. $5 billion Website. Well, you need somebody, because politicians are all talk, no action. Nothing's gonna get done. They will not bring us -- believe me -- to the promised land. They will not. As an example, I've been on the circuit making speeches, and I hear my fellow Republicans. And they're wonderful people. I like them. They all want me to support them. They don't know how to bring it about. They come up to my office. I'm meeting with three of them in the next week. And they don't know -- \"Are you running? Are you not running? Could we have your support? What do we do? How do we do it?\" I like them. And I hear their speeches. And they don't talk jobs and they don't talk China. When was the last time you heard China is killing us? They're devaluing their currency to a level that you wouldn't believe. It makes it impossible for our companies to compete, impossible. They're killing us. But you don't hear that from anybody else. You don't hear it from anybody else. And I watch the speeches. Thank you. I watch the speeches of these people, and they say the sun will rise, the moon will set, all sorts of wonderful things will happen. And people are saying, \"What's going on? I just want a job. Just get me a job. I don't need the rhetoric. I want a job.\" And that's what's happening. And it's going to get worse, because remember, Obamacare really kicks in in '16, 2016. Obama is going to be out playing golf. He might be on one of my courses. I would invite him. I actually would say I have the best courses in the world, so I'd say, tell you what, if he wants to -- I have one right next to the White House, right on the Potomac. If he'd like to play, that's fine. In fact, I'd love him to leave early and play, that would be a very good thing. But Obamacare kicks in in 2016. Really big league. It is going to be amazingly destructive. Doctors are quitting. I have a friend who's a doctor, and he said to me the other day, \"Donald, I never saw anything like it. I have more accountants than I have nurses. It's a disaster. My patients are beside themselves. They had a plan that was good. They have no plan now.\" We have to repeal Obamacare, and it can be -- and -- and it can be replaced with something much better for everybody. Let it be for everybody. But much better and much less expensive for people and for the government. And we can do it. So I've watched the politicians. I've dealt with them all my life. If you can't make a good deal with a politician, then there's something wrong with you. You're certainly not very good. And that's what we have representing us. They will never make America great again. They don't even have a chance. They're controlled fully -- they're controlled fully by the lobbyists, by the donors, and by the special interests, fully. Yes, they control them. Hey, I have lobbyists. I have to tell you. I have lobbyists that can produce anything for me. They're great. But you know what? it won't happen. It won't happen. Because we have to stop doing things for some people, but for this country, it's destroying our country. We have to stop, and it has to stop now. N o w ,   o u r   c o u n t r y   n e e d s   - -   o u r   c o u n t r y   n e e d s   a   t r u l y   g r e a t   l e a d e r ,   a n d   w e   n e e d   a   t r u l y   g r e a t   l e a d e r   n o w .   W e   n e e d   a   l e a d e r   t h a t   w r o t e   \" T h e   A r t   o f   t h e   D e a l . \" We need a leader that can bring back our jobs, can bring back our manufacturing, can bring back our military, can take care of our vets. Our vets have been abandoned. And we also need a cheerleader. You know, when President Obama was elected, I said, \"Well, the one thing, I think he'll do well. I think he'll be a great cheerleader for the country. I think he'd be a great spirit.\" He was vibrant. He was young. I really thought that he would be a great cheerleader. He's not a leader. That's true. You're right about that. But he wasn't a cheerleader. He's actually a negative force. He's been a negative force. He wasn't a cheerleader; he was the opposite. We need somebody that can take the brand of the United States and make it great again. It's not great again. We need -- we need somebody -- we need somebody that literally will take this country and make it great again. We can do that. And, I will tell you, I love my life. I have a wonderful family. They're saying, \"Dad, you're going to do something that's going to be so tough.\" You know, all of my life, I've heard that a truly successful person, a really, really successful person and even modestly successful cannot run for public office. Just can't happen. And yet that's the kind of mindset that you need to make this country great again. So ladies and gentlemen... I am officially running... ... for president of the United States, and we are going to make our country great again. It can happen. Our country has tremendous potential. We have tremendous people. We have people that aren't working. We have people that have no incentive to work. But they're going to have incentive to work, because the greatest social program is a job. And they'll be proud, and they'll love it, and they'll make much more than they would've ever made, and they'll be -- they'll be doing so well, and we're going to be thriving as a country, thriving. It can happen. I will be the greatest jobs president that God ever created. I tell you that. I'll bring back our jobs from China, from Mexico, from Japan, from so many places. I'll bring back our jobs, and I'll bring back our money. Right now, think of this: We owe China $1.3 trillion. We owe Japan more than that. So they come in, they take our jobs, they take our money, and then they loan us back the money, and we pay them in interest, and then the dollar goes up so their deal's even better. How stupid are our leaders? How stupid are these politicians to allow this to happen? How stupid are they? I'm going to tell you -- thank you. I'm going to tell you a couple of stories about trade, because I'm totally against the trade bill for a number of reasons. Number one, the people negotiating don't have a clue. Our president doesn't have a clue. He's a bad negotiator. He's the one that did Bergdahl. We get Bergdahl, they get five killer terrorists that everybody wanted over there. We get Bergdahl. We get a traitor. We get a no-good traitor, and they get the five people that they wanted for years, and those people are now back on the battlefield trying to kill us. That's the negotiator we have. Take a look at the deal he's making with Iran. He makes that deal, Israel maybe won't exist very long. It's a disaster, and we have to protect Israel. But... So we need people -- I'm a free trader. But the problem with free trade is you need really talented people to negotiate for you. If you don't have talented people, if you don't have great leadership, if you don't have people that know business, not just a political hack that got the job because he made a contribution to a campaign, which is the way all jobs, just about, are gotten, free trade terrible. Free trade can be wonderful if you have smart people, but we have people that are stupid. We have people that aren't smart. And we have people that are controlled by special interests. And it's just not going to work. So, here's a couple of stories happened recently. A friend of mine is a great manufacturer. And, you know, China comes over and they dump all their stuff, and I buy it. I buy it, because, frankly, I have an obligation to buy it, because they devalue their currency so brilliantly, they just did it recently, and nobody thought they could do it again. But with all our problems with Russia, with all our problems with everything -- everything, they got away with it again. And it's impossible for our people here to compete. So I want to tell you this story. A friend of mine who's a great manufacturer, calls me up a few weeks ago. He's very upset. I said, \"What's your problem?\" He said, \"You know, I make great product.\" And I said, \"I know. I know that because I buy the product.\" He said, \"I can't get it into China. They won't accept it. I sent a boat over and they actually sent it back. They talked about environmental, they talked about all sorts of crap that had nothing to do with it.\" I said, \"Oh, wait a minute, that's terrible. Does anyone know this?\" He said, \"Yeah, they do it all the time with other people.\" I said, \"They send it back?\" \"Yeah. So I finally got it over there and they charged me a big tariff. They're not supposed to be doing that. I told them.\" Now, they do charge you tariff on trucks, when we send trucks and other things over there. Ask Boeing. They wanted Boeing's secrets. They wanted their patents and all their secrets before they agreed to buy planes from Boeing. Hey, I'm not saying they're stupid. I like China. I sell apartments for -- I just sold an apartment for $15 million to somebody from China. Am I supposed to dislike them? I own a big chunk of the Bank of America Building at 1290 Avenue of the Americas, that I got from China in a war. Very valuable. I love China. The biggest bank in the world is from China. You know where their United States headquarters is located? In this building, in Trump Tower. I love China. People say, \"Oh, you don't like China?\" No, I love them. But their leaders are much smarter than our leaders, and we can't sustain ourself with that. There's too much -- it's like -- it's like take the New England Patriots and Tom Brady and have them play your high school football team. That's the difference between China's leaders and our leaders. They are ripping us. We are rebuilding China. We're rebuilding many countries. China, you go there now, roads, bridges, schools, you never saw anything like it. They have bridges that make the George Washington Bridge look like small potatoes. And they're all over the place. We have all the cards, but we don't know how to use them. We don't even know that we have the cards, because our leaders don't understand the game. We could turn off that spigot by charging them tax until they behave properly. Now they're going militarily. They're building a military island in the middle of the South China sea. A military island. Now, our country could never do that because we'd have to get environmental clearance, and the environmentalist wouldn't let our country -- we would never build in an ocean. They built it in about one year, this massive military port. They're building up their military to a point that is very scary. You have a problem with ISIS. You have a bigger problem with China. And, in my opinion, the new China, believe it or not, in terms of trade, is Mexico. So this man tells me about the manufacturing. I say, \"That's a terrible story. I hate to hear it.\" But I have another one, Ford. So Mexico takes a company, a car company that was going to build in Tennessee, rips it out. Everybody thought the deal was dead. Reported it in the Wall Street Journal recently. Everybody thought it was a done deal. It's going in and that's going to be it, going into Tennessee. Great state, great people. All of a sudden, at the last moment, this big car manufacturer, foreign, announces they're not going to Tennessee. They're gonna spend their $1 billion in Mexico instead. Not good. Now, Ford announces a few weeks ago that Ford is going to build a $2.5 billion car and truck and parts manufacturing plant in Mexico. $2.5 billion, it's going to be one of the largest in the world. Ford. Good company. So I announced that I'm running for president. I would... ... one of the early things I would do, probably before I even got in -- and I wouldn't even use -- you know, I have -- I know the smartest negotiators in the world. I know the good ones. I know the bad ones. I know the overrated ones. You get a lot of them that are overrated. They're not good. They think they are. They get good stories, because the newspapers get buffaloed. But they're not good. But I know the negotiators in the world, and I put them one for each country. Believe me, folks. We will do very, very well, very, very well. But I wouldn't even waste my time with this one. I would call up the head of Ford, who I know. If I was president, I'd say, \"Congratulations. I understand that you're building a nice $2.5 billion car factory in Mexico and that you're going to take your cars and sell them to the United States zero tax, just flow them across the border.\" And you say to yourself, \"How does that help us,\" right? \"How does that help us? Where is that good\"? It's not. So I would say, \"Congratulations. That's the good news. Let me give you the bad news. Every car and every truck and every part manufactured in this plant that comes across the border, we're going to charge you a 35 percent tax, and that tax is going to be paid simultaneously with the transaction, and that's it. And guess what? No problem. They're going to build in Mexico. They're going to take away thousands of jobs. It's very bad for us. So under President Trump, here's what would happen: The head of Ford will call me back, I would say within an hour after I told them the bad news. But it could be he'd want to be cool, and he'll wait until the next day. You know, they want to be a little cool. And he'll say, \"Please, please, please.\" He'll beg for a little while, and I'll say, \"No interest.\" Then he'll call all sorts of political people, and I'll say, \"Sorry, fellas. No interest,\" because I don't need anybody's money. It's nice. I don't need anybody's money. And by the way, I'm not even saying that in a -- that's the kind of mindset, that's the kind of thinking you need for this country. So -- because we got to make the country rich. It sounds crass. Somebody said, \"Oh, that's crass.\" It's not crass. We got $18 trillion in debt. We got nothing but problems. We got a military that needs equipment all over the place. We got nuclear weapons that are obsolete. We've got nothing. We've got Social Security that's going to be destroyed if somebody like me doesn't bring money into the country. All these other people want to cut the hell out of it. I'm not going to cut it at all; I'm going to bring money in, and we're going to save it. But here's what's going to happen: After I'm called by 30 friends of mine who contributed to different campaigns, after I'm called by all of the special interests and by the -- the donors and by the lobbyists -- and they have zero chance at convincing me, zero -- I'll get a call the next day from the head of Ford. He'll say. \"Please reconsider,\" I'll say no. He'll say, \"Mr. President, we've decided to move the plant back to the United States, and we're not going to build it in Mexico.\" That's it. They have no choice. They have no choice. There are hundreds of things like that. I'll give you another example. Saudi Arabia, they make $1 billion a day. $1 billion a day. I love the Saudis. Many are in this building. They make a billion dollars a day. Whenever they have problems, we send over the ships. We say \"we're gonna protect.\" What are we doing? They've got nothing but money. If the right person asked them, they'd pay a fortune. They wouldn't be there except for us. And believe me, you look at the border with Yemen. You remember Obama a year ago, Yemen was a great victory. Two weeks later, the place was blown up. Everybody got out -- and they kept our equipment. They always keep our equipment. We ought to send used equipment, right? They always keep our equipment. We ought to send some real junk, because, frankly, it would be -- we ought to send our surplus. We're always losing this gorgeous brand-new stuff. But look at that border with Saudi Arabia. Do you really think that these people are interested in Yemen? Saudi Arabia without us is gone. They're gone. And I'm the one that made all of the right predictions about Iraq. You know, all of these politicians that I'm running against now -- it's so nice to say I'm running as opposed to if I run, if I run. I'm running. But all of these politicians that I'm running against now, they're trying to disassociate. I mean, you looked at Bush, it took him five days to answer the question on Iraq. He couldn't answer the question. He didn't know. I said, \"Is he intelligent?\" Then I looked at Rubio. He was unable to answer the question, is Iraq a good thing or bad thing? He didn't know. He couldn't answer the question. How are these people gonna lead us? How are we gonna -- how are we gonna go back and make it great again? We can't. They don't have a clue. They can't lead us. They can't. They can't even answer simple questions. It was terrible. But Saudi Arabia is in big, big trouble. Now, thanks to fracking and other things, the oil is all over the place. And I used to say it, there are ships at sea, and this was during the worst crisis, that were loaded up with oil, and the cartel kept the price up, because, again, they were smarter than our leaders. They were smarter than our leaders. There is so much wealth out there that can make our country so rich again, and therefore make it great again. Because we need money. We're dying. We're dying. We need money. We have to do it. And we need the right people. So Ford will come back. They'll all come back. And I will say this, this is going to be an election, in my opinion, that's based on competence. Somebody said -- thank you, darlin'. Somebody said to me the other day, a reporter, a very nice reporter, \"But, Mr. Trump, you're not a nice person.\" That's true. But actually I am. I think I am a nice person. People that know me, like me. Does my family like me? I think so, right. Look at my family. I'm proud of my family. By the way, speaking of my family, Melania, Barron, Kai, Donnie, Don, Vanessa, Tiffany, Evanka did a great job. Did she do a great job? Great. Jared, Laura and Eric, I'm very proud of my family. They're a great family. So the reporter said to me the other day, \"But, Mr. Trump, you're not a nice person. How can you get people to vote for you?\" I said, \"I don't know.\" I said, \"I think that number one, I am a nice person. I give a lot of money away to charities and other things. I think I'm actually a very nice person.\" But, I said, \"This is going to be an election that's based on competence, because people are tired of these nice people. And they're tired of being ripped off by everybody in the world. And they're tired of spending more money on education than any nation in the world per capita, than any nation in the world, and we are 26th in the world, 25 countries are better than us in education. And some of them are like third world countries. But we're becoming a third word country, because of our infrastructure, our airports, our roads, everything. So one of the things I did, and I said, you know what I'll do. I'll do it. Because a lot of people said, \"He'll never run. Number one, he won't want to give up his lifestyle.\" They're right about that, but I'm doing it. Number two, I'm a private company, so nobody knows what I'm worth. And the one thing is that when you run, you have to announce and certify to all sorts of governmental authorities your net worth. So I said, \"That's OK.\" I'm proud of my net worth. I've done an amazing job. I started off -- thank you -- I started off in a small office with my father in Brooklyn and Queens, and my father said -- and I love my father. I learned so much. He was a great negotiator. I learned so much just sitting at his feet playing with blocks listening to him negotiate with subcontractors. But I learned a lot. But he used to say, \"Donald, don't go into Manhattan. That's the big leagues. We don't know anything about that. Don't do it.\" I said, \"I gotta go into Manhattan. I gotta build those big buildings. I gotta do it, Dad. I've gotta do it.\" And after four or five years in Brooklyn, I ventured into Manhattan and did a lot of great deals -- the Grand Hyatt Hotel. I was responsible for the convention center on the west side. I did a lot of great deals, and I did them early and young. And now I'm building all over the world, and I love what I'm doing. But they all said, a lot of the pundits on television, \"Well, Donald will never run, and one of the main reasons is he's private and he's probably not as successful as everybody thinks.\" So I said to myself, you know, nobody's ever going to know unless I run, because I'm really proud of my success. I really am. I've employed -- I've employed tens of thousands of people over my lifetime. That means medical. That means education. That means everything. So a large accounting firm and my accountants have been working for months, because it's big and complex, and they've put together a statement, a financial statement, just a summary. But everything will be filed eventually with the government, and we don't extensions or anything. We'll be filing it right on time. We don't need anything. And it was even reported incorrectly yesterday, because they said, \"He had assets of $9 billion.\" So I said, \"No, that's the wrong number. That's the wrong number. Not assets.\" So they put together this. And before I say it, I have to say this. I made it the old-fashioned way. It's real estate. You know, it's real estate. It's labor, and it's unions good and some bad and lots of people that aren't in unions, and it's all over the place and building all over the world. And I have assets -- big accounting firm, one of the most highly respected -- 9 billion 240 million dollars. And I have liabilities of about $500 million. That's long-term debt, very low interest rates. In fact, one of the big banks came to me and said, \"Donald, you don't have enough borrowings. Could we loan you $4 billion\"? I said, \"I don't need it. I don't want it. And I've been there. I don't want it.\" But in two seconds, they give me whatever I wanted. So I have a total net worth, and now with the increase, it'll be well-over $10 billion. But here, a total net worth of -- net worth, not assets, not -- a net worth, after all debt, after all expenses, the greatest assets -- Trump Tower, 1290 Avenue of the Americas, Bank of America building in San Francisco, 40 Wall Street, sometimes referred to as the Trump building right opposite the New York -- many other places all over the world. So the total is $8,737,540,00. Now I'm not doing that... I'm not doing that to brag, because you know what? I don't have to brag. I don't have to, believe it or not. I'm doing that to say that that's the kind of thinking our country needs. We need that thinking. We have the opposite thinking. We have losers. We have losers. We have people that don't have it. We have people that are morally corrupt. We have people that are selling this country down the drain. So I put together this statement, and the only reason I'm telling you about it today is because we really do have to get going, because if we have another three or four years -- you know, we're at $8 trillion now. We're soon going to be at $20 trillion. According to the economists -- who I'm not big believers in, but, nevertheless, this is what they're saying -- that $24 trillion -- we're very close -- that's the point of no return. $24 trillion. We will be there soon. That's when we become Greece. That's when we become a country that's unsalvageable. And we're gonna be there very soon. We're gonna be there very soon. S o ,   j u s t   t o   s u m   u p ,   I   w o u l d   d o   v a r i o u s   t h i n g s   v e r y   q u i c k l y .   I   w o u l d   r e p e a l   a n d   r e p l a c e   t h e   b i g   l i e ,   O b a m a c a r e . I   w o u l d   b u i l d   a   g r e a t   w a l l ,   a n d   n o b o d y   b u i l d s   w a l l s   b e t t e r   t h a n   m e ,   b e l i e v e   m e ,   a n d   I ' l l   b u i l d   t h e m   v e r y   i n e x p e n s i v e l y ,   I   w i l l   b u i l d   a   g r e a t ,   g r e a t   w a l l   o n   o u r   s o u t h e r n   b o r d e r .   A n d   I   w i l l   h a v e   M e x i c o   p a y   f o r   t h a t   w a l l . Mark my words. Nobody would be tougher on ISIS than Donald Trump. Nobody. I will find -- within our military, I will find the General Patton or I will find General MacArthur, I will find the right guy. I will find the guy that's going to take that military and make it really work. Nobody, nobody will be pushing us around. I will stop Iran from getting nuclear weapons. And we won't be using a man like Secretary Kerry that has absolutely no concept of negotiation, who's making a horrible and laughable deal, who's just being tapped along as they make weapons right now, and then goes into a bicycle race at 72 years old, and falls and breaks his leg. I won't be doing that. And I promise I will never be in a bicycle race. That I can tell you. I will immediately terminate President Obama's illegal executive order on immigration, immediately. Fully support and back up the Second Amendment. Now, it's very interesting. Today I heard it. Through stupidity, in a very, very hard core prison, interestingly named Clinton, two vicious murderers, two vicious people escaped, and nobody knows where they are. And a woman was on television this morning, and she said, \"You know, Mr. Trump,\" and she was telling other people, and I actually called her, and she said, \"You know, Mr. Trump, I always was against guns. I didn't want guns. And now since this happened\" -- it's up in the prison area -- \"my husband and I are finally in agreement, because he wanted the guns. We now have a gun on every table. We're ready to start shooting.\" I said, \"Very interesting.\" So protect the Second Amendment. End -- end Common Core. Common Core should -- it is a disaster. Bush is totally in favor of Common Core. I don't see how he can possibly get the nomination. He's weak on immigration. He's in favor of Common Core. How the hell can you vote for this guy? You just can't do it. We have to end -- education has to be local. Rebuild the country's infrastructure. Nobody can do that like me. Believe me. It will be done on time, on budget, way below cost, way below what anyone ever thought. I look at the roads being built all over the country, and I say I can build those things for one-third. What they do is unbelievable, how bad. You know, we're building on Pennsylvania Avenue, the Old Post Office, we're converting it into one of the world's great hotels. It's gonna be the best hotel in Washington, D.C. We got it from the General Services Administration in Washington. The Obama administration. We got it. It was the most highly sought after -- or one of them, but I think the most highly sought after project in the history of General Services. We got it. People were shocked, Trump got it. Well, I got it for two reasons. Number one, we're really good. Number two, we had a really good plan. And I'll add in the third, we had a great financial statement. Because the General Services, who are terrific people, by the way, and talented people, they wanted to do a great job. And they wanted to make sure it got built. So we have to rebuild our infrastructure, our bridges, our roadways, our airports. You come into La Guardia Airport, it's like we're in a third world country. You look at the patches and the 40-year-old floor. They throw down asphalt, and they throw. You look at these airports, we are like a third world country. And I come in from China and I come in from Qatar and I come in from different places, and they have the most incredible airports in the world. You come to back to this country and you have LAX, disaster. You have all of these disastrous airports. We have to rebuild our infrastructure. Save Medicare, Medicaid and Social Security without cuts. Have to do it. Get rid of the fraud. Get rid of the waste and abuse, but save it. People have been paying it for years. And now many of these candidates want to cut it. You save it by making the United States, by making us rich again, by taking back all of the money that's being lost. Renegotiate our foreign trade deals. Reduce our $18 trillion in debt, because, believe me, we're in a bubble. We have artificially low interest rates. We have a stock market that, frankly, has been good to me, but I still hate to see what's happening. We have a stock market that is so bloated. Be careful of a bubble because what you've seen in the past might be small potatoes compared to what happens. So be very, very careful. And strengthen our military and take care of our vets. So, so important. S a d l y ,   t h e   A m e r i c a n   d r e a m   i s   d e a d . But if I get elected president I will bring it back bigger and better and stronger than ever before, and we will make America great again. Thank you. Thank you very much.\n"
     ]
    }
   ],
   "source": [
    "to_validation_pct = 0.25\n",
    "\n",
    "for index, row in df.iterrows():\n",
    "    if index < 3:\n",
    "        if row['genre'] == 'speech':\n",
    "            speech_str = ''\n",
    "            for x in row['doc']:\n",
    "                if type(x) is dict:\n",
    "                    if x['person'] == 'Donald Trump':\n",
    "                        for y in x['p']:\n",
    "                            if type(y) is str:\n",
    "                                print(y)\n",
    "                                speech_str = speech_str + ' ' + y\n",
    "#                 elif True: #type(x) is str:\n",
    "#                     print(type(x))\n",
    "                            \n",
    "            if random.random() > to_validation_pct: \n",
    "                with open(TRN + str(index) + \".txt\", \"w\") as text_file:\n",
    "                    print(speech_str, file=text_file)\n",
    "            else:\n",
    "                with open(VAL + str(index) + \".txt\", \"w\") as text_file:\n",
    "                    print(speech_str, file=text_file)\n",
    "                        \n",
    "            # df_speech = pd.read_json(row['doc'])\n",
    "            \n",
    "# print(speech_str)\n",
    "#df_speech.head()"
   ]
  },
  {
   "cell_type": "markdown",
   "metadata": {
    "collapsed": true
   },
   "source": [
    "## Language modeling"
   ]
  },
  {
   "cell_type": "markdown",
   "metadata": {},
   "source": [
    "### Data"
   ]
  },
  {
   "cell_type": "markdown",
   "metadata": {},
   "source": [
    "The [large movie view dataset](http://ai.stanford.edu/~amaas/data/sentiment/) contains a collection of 50,000 reviews from IMDB. The dataset contains an even number of positive and negative reviews. The authors considered only highly polarized reviews. A negative review has a score ≤ 4 out of 10, and a positive review has a score ≥ 7 out of 10. Neutral reviews are not included in the dataset. The dataset is divided into training and test sets. The training set is the same 25,000 labeled reviews.\n",
    "\n",
    "The **sentiment classification task** consists of predicting the polarity (positive or negative) of a given text.\n",
    "\n",
    "However, before we try to classify *sentiment*, we will simply try to create a *language model*; that is, a model that can predict the next word in a sentence. Why? Because our model first needs to understand the structure of English, before we can expect it to recognize positive vs negative sentiment.\n",
    "\n",
    "So our plan of attack is the same as we used for Dogs v Cats: pretrain a model to do one thing (predict the next word), and fine tune it to do something else (classify sentiment).\n",
    "\n",
    "Unfortunately, there are no good pretrained language models available to download, so we need to create our own. To follow along with this notebook, we suggest downloading the dataset from [this location](http://files.fast.ai/data/aclImdb.tgz) on files.fast.ai."
   ]
  },
  {
   "cell_type": "code",
   "execution_count": null,
   "metadata": {},
   "outputs": [],
   "source": []
  },
  {
   "cell_type": "markdown",
   "metadata": {},
   "source": [
    "Let's look inside the training folder..."
   ]
  },
  {
   "cell_type": "code",
   "execution_count": 46,
   "metadata": {},
   "outputs": [
    {
     "data": {
      "text/plain": [
       "['1011.txt',\n",
       " '1069.txt',\n",
       " '1076.txt',\n",
       " '1254.txt',\n",
       " '1511.txt',\n",
       " '1652.txt',\n",
       " '1687.txt',\n",
       " '1710.txt',\n",
       " '172.txt',\n",
       " '1741.txt']"
      ]
     },
     "execution_count": 46,
     "metadata": {},
     "output_type": "execute_result"
    }
   ],
   "source": [
    "trn_files = !ls {TRN}\n",
    "trn_files[:10]"
   ]
  },
  {
   "cell_type": "markdown",
   "metadata": {},
   "source": [
    "...and at an example review."
   ]
  },
  {
   "cell_type": "code",
   "execution_count": 48,
   "metadata": {},
   "outputs": [
    {
     "data": {
      "text/plain": [
       "' This is really beautiful, fantastic. What a crowd. What a crowd. Well, I want to thank everybody. You know, we have a big night tomorrow night. Has anybody, like, thinking about it? It\\'s going be good. We\\'ve had so many good things happen over the last five-month period, it\\'s been actually amazing. The people of this country are absolutely incredible people and I am honored to be with you tonight. It\\'s like this all over the place. We\\'re going to take our country back, folks. We\\'re going to take it back. We\\'re taking our country back. It\\'s gone on too long, too many mistakes, too many stupid people telling us what we\\'re supposed to be doing. We\\'re going to be taking it back and we\\'re taking it back soon. We can\\'t put up with it any longer. You see what happens. The Iran deal, incompetent. Anything you look, now I hear Bergdahl, no jail time for Bergdahl. I mean, no jail time. We have a man there who left. He\\'s a traitor. He left. Five people killed looking for him. And what happens? Like, for years, he\\'s been under the same thing, and I hear there\\'s not going to be jail time. It\\'s incredible. You know, 50 years ago, what would happen? Boom. Twenty-five years ago, probably the same thing, but it would have taken longer. Ten years ago, jail time. Five years ago, a couple of years. Now, he\\'s going to get nothing. He\\'s going to get nothing. Well, I\\'ll tell you what, I\\'m just thinking of it now for the first time. If I get in, we will review his case, I promise you. And you know what? Statute of limitations will be reviewing Hillary Clinton\\'s case, too. I can tell you. We will review that. You know, before I go too far, I\\'ve made some great friends and, you know, I announced and I talked about illegal immigration. There was a huge firestorm, everyone went crazy, oh, illegal immigration, it wasn\\'t even something that people are going to talk about. And then all of a sudden they started saying, you know, maybe Trump is right. But I went through two weeks, it was unbelievable. I mean, it was really incredible. I didn\\'t mind it. You know, it\\'s like, quote life, because I\\'m telling the truth. I don\\'t mind when you\\'re saying something that\\'s correct and this country needs to get away from political correctness. It\\'s killing us. It\\'s killing us. It is absolutely killing us. And I announced all about -- we talked about what\\'s happening at the border, we talked about the illegals pouring in. And all of a sudden people started seeing lots of crime and they started really seeing it to lose focus because it was like a magnifying glass. We had beautiful Kate in San Francisco who was killed and shot five times and then we had so many others. We had a woman a few weeks ago in California raped, sodomized, 66- year-old veteran, raped, sodomized and killed by an illegal immigrant. We have much, much crime, so much all over the place. And a friend of mine, I see him backstage with a group from remembrance families. You know, remembrance, right? These are people whose families have been devastated by people that weren\\'t supposed to be in our country. People that came here, were forced here by countries that are smarter and I want to just bring the friends of mine and in particular, somebody has really gotten to know well and he\\'s a special man. Could the remembered families come up? And this is Jamiel. Jamiel Shaw. Come on up and get the families up. Come on up. Come on up. I saw him back. We\\'re going to say hello and I said, come on up and say a few words. These are incredible people. These are amazing people. They\\'re amazing families. What they\\'re going through, you cannot imagine. For no reason whatsoever, just incompetent people. They allow these people to come into our country. It\\'s a disgrace. It\\'s a disgrace. OK. So today, we had a lot of news and it was all good. It never gets reported properly by these people back here. Look at all those press. But you know, I\\'ve learned two things, more than anything else. How smart the people are and how bad and dishonest the press is because it is really dishonest. It is really, really dishonest. So we had a lot of polls coming out today. And they were really good. That\\'s right. So we had the Monmouth poll, very highly respected. Trump, 41. Cruz, 14. And everyone else much lower, I mean, somewhere. So I heard today when they announced the poll, 41 to 14, and I like Cruz. Good guy. But I heard, here\\'s how they announced, Cruz surging. So when I heard, this was on television, Cruz surging. So I said, oh, I don\\'t know, that sounds bad to me. \"Coming up, Cruz surging.\" Then they said the Monmouth poll was just done, Cruz is surging. Trump 41, Cruz 14. I said, wait a minute, what\\'s going on? I\\'ll tell you what, they are the most dishonest people. Then, you know about CNN. CNN came out just recently, 36 to 16. Graves poll, highly respected, 42 to 16 to 12 to 11. So \"Des Moines Register\" was 21-31. All of a sudden, it was like the biggest story I\\'ve ever seen OK? That was just Iowa. Don\\'t worry about it. Iowa, we love Iowa but I think we\\'re doing great in Iowa, and I expect to win Iowa. We think we\\'re going to do great in Iowa. I get by far the biggest crowds. So then we had a CNN poll. So CNN today was talking about a poll that wasn\\'t theirs. And I kept saying, why don\\'t they talk about a poll that\\'s theirs? So they just did this poll, it\\'s a new poll. CNN and Iowa, Trump 33, Cruz 20 and then everyone else much lower. So we actually sent a couple of emails, started to tweet a little bit. You know, the Twitter is great when you have between 5 and 10 and 13 -- we have so many people. We have millions. So we started to tweet. We said, why is CNN not playing their poll? It\\'s their poll. So if anybody has an idea, please let me know before the evening ends. Then we had a Fox News poll, which was a pretty good poll. It was pretty much tied. Then we have Quinnipiac. And Quinnipiac was 28 Trump, 27 Cruz. In other words, we won. They call it was tie. They say it was tie. OK. I mean, so what? You know the bottom line? I think we\\'re going to win Iowa. I think we\\'re going to win New Hampshire big. I think that, frankly as we win Iowa...'"
      ]
     },
     "execution_count": 48,
     "metadata": {},
     "output_type": "execute_result"
    }
   ],
   "source": [
    "review = !cat {TRN}{trn_files[5]}\n",
    "review[0]"
   ]
  },
  {
   "cell_type": "markdown",
   "metadata": {},
   "source": [
    "Sounds like I'd really enjoy *Zombiegeddon*...\n",
    "\n",
    "Now we'll check how many words are in the dataset."
   ]
  },
  {
   "cell_type": "code",
   "execution_count": 49,
   "metadata": {},
   "outputs": [
    {
     "name": "stdout",
     "output_type": "stream",
     "text": [
      "644900\r\n"
     ]
    }
   ],
   "source": [
    "!find {TRN} -name '*.txt' | xargs cat | wc -w"
   ]
  },
  {
   "cell_type": "code",
   "execution_count": 50,
   "metadata": {},
   "outputs": [
    {
     "name": "stdout",
     "output_type": "stream",
     "text": [
      "168105\r\n"
     ]
    }
   ],
   "source": [
    "!find {VAL} -name '*.txt' | xargs cat | wc -w"
   ]
  },
  {
   "cell_type": "markdown",
   "metadata": {},
   "source": [
    "Before we can analyze text, we must first *tokenize* it. This refers to the process of splitting a sentence into an array of words (or more generally, into an array of *tokens*)."
   ]
  },
  {
   "cell_type": "code",
   "execution_count": 51,
   "metadata": {},
   "outputs": [],
   "source": [
    "spacy_tok = spacy.load('en')"
   ]
  },
  {
   "cell_type": "code",
   "execution_count": 52,
   "metadata": {},
   "outputs": [
    {
     "data": {
      "text/plain": [
       "' This is really beautiful , fantastic . What a crowd . What a crowd . Well , I want to thank everybody . You know , we have a big night tomorrow night . Has anybody , like , thinking about it ? It \\'s going be good . We \\'ve had so many good things happen over the last five - month period , it \\'s been actually amazing . The people of this country are absolutely incredible people and I am honored to be with you tonight . It \\'s like this all over the place . We \\'re going to take our country back , folks . We \\'re going to take it back . We \\'re taking our country back . It \\'s gone on too long , too many mistakes , too many stupid people telling us what we \\'re supposed to be doing . We \\'re going to be taking it back and we \\'re taking it back soon . We ca n\\'t put up with it any longer . You see what happens . The Iran deal , incompetent . Anything you look , now I hear Bergdahl , no jail time for Bergdahl . I mean , no jail time . We have a man there who left . He \\'s a traitor . He left . Five people killed looking for him . And what happens ? Like , for years , he \\'s been under the same thing , and I hear there \\'s not going to be jail time . It \\'s incredible . You know , 50 years ago , what would happen ? Boom . Twenty - five years ago , probably the same thing , but it would have taken longer . Ten years ago , jail time . Five years ago , a couple of years . Now , he \\'s going to get nothing . He \\'s going to get nothing . Well , I \\'ll tell you what , I \\'m just thinking of it now for the first time . If I get in , we will review his case , I promise you . And you know what ? Statute of limitations will be reviewing Hillary Clinton \\'s case , too . I can tell you . We will review that . You know , before I go too far , I \\'ve made some great friends and , you know , I announced and I talked about illegal immigration . There was a huge firestorm , everyone went crazy , oh , illegal immigration , it was n\\'t even something that people are going to talk about . And then all of a sudden they started saying , you know , maybe Trump is right . But I went through two weeks , it was unbelievable . I mean , it was really incredible . I did n\\'t mind it . You know , it \\'s like , quote life , because I \\'m telling the truth . I do n\\'t mind when you \\'re saying something that \\'s correct and this country needs to get away from political correctness . It \\'s killing us . It \\'s killing us . It is absolutely killing us . And I announced all about -- we talked about what \\'s happening at the border , we talked about the illegals pouring in . And all of a sudden people started seeing lots of crime and they started really seeing it to lose focus because it was like a magnifying glass . We had beautiful Kate in San Francisco who was killed and shot five times and then we had so many others . We had a woman a few weeks ago in California raped , sodomized , 66- year - old veteran , raped , sodomized and killed by an illegal immigrant . We have much , much crime , so much all over the place . And a friend of mine , I see him backstage with a group from remembrance families . You know , remembrance , right ? These are people whose families have been devastated by people that were n\\'t supposed to be in our country . People that came here , were forced here by countries that are smarter and I want to just bring the friends of mine and in particular , somebody has really gotten to know well and he \\'s a special man . Could the remembered families come up ? And this is Jamiel . Jamiel Shaw . Come on up and get the families up . Come on up . Come on up . I saw him back . We \\'re going to say hello and I said , come on up and say a few words . These are incredible people . These are amazing people . They \\'re amazing families . What they \\'re going through , you can not imagine . For no reason whatsoever , just incompetent people . They allow these people to come into our country . It \\'s a disgrace . It \\'s a disgrace . OK . So today , we had a lot of news and it was all good . It never gets reported properly by these people back here . Look at all those press . But you know , I \\'ve learned two things , more than anything else . How smart the people are and how bad and dishonest the press is because it is really dishonest . It is really , really dishonest . So we had a lot of polls coming out today . And they were really good . That \\'s right . So we had the Monmouth poll , very highly respected . Trump , 41 . Cruz , 14 . And everyone else much lower , I mean , somewhere . So I heard today when they announced the poll , 41 to 14 , and I like Cruz . Good guy . But I heard , here \\'s how they announced , Cruz surging . So when I heard , this was on television , Cruz surging . So I said , oh , I do n\\'t know , that sounds bad to me . \" Coming up , Cruz surging . \" Then they said the Monmouth poll was just done , Cruz is surging . Trump 41 , Cruz 14 . I said , wait a minute , what \\'s going on ? I \\'ll tell you what , they are the most dishonest people . Then , you know about CNN . CNN came out just recently , 36 to 16 . Graves poll , highly respected , 42 to 16 to 12 to 11 . So \" Des Moines Register \" was 21 - 31 . All of a sudden , it was like the biggest story I \\'ve ever seen OK ? That was just Iowa . Do n\\'t worry about it . Iowa , we love Iowa but I think we \\'re doing great in Iowa , and I expect to win Iowa . We think we \\'re going to do great in Iowa . I get by far the biggest crowds . So then we had a CNN poll . So CNN today was talking about a poll that was n\\'t theirs . And I kept saying , why do n\\'t they talk about a poll that \\'s theirs ? So they just did this poll , it \\'s a new poll . CNN and Iowa , Trump 33 , Cruz 20 and then everyone else much lower . So we actually sent a couple of emails , started to tweet a little bit . You know , the Twitter is great when you have between 5 and 10 and 13 -- we have so many people . We have millions . So we started to tweet . We said , why is CNN not playing their poll ? It \\'s their poll . So if anybody has an idea , please let me know before the evening ends . Then we had a Fox News poll , which was a pretty good poll . It was pretty much tied . Then we have Quinnipiac . And Quinnipiac was 28 Trump , 27 Cruz . In other words , we won . They call it was tie . They say it was tie . OK . I mean , so what ? You know the bottom line ? I think we \\'re going to win Iowa . I think we \\'re going to win New Hampshire big . I think that , frankly as we win Iowa ...'"
      ]
     },
     "execution_count": 52,
     "metadata": {},
     "output_type": "execute_result"
    }
   ],
   "source": [
    "' '.join([sent.string.strip() for sent in spacy_tok(review[0])])"
   ]
  },
  {
   "cell_type": "code",
   "execution_count": 53,
   "metadata": {},
   "outputs": [
    {
     "data": {
      "text/plain": [
       " This is really beautiful, fantastic. What a crowd. What a crowd. Well, I want to thank everybody. You know, we have a big night tomorrow night. Has anybody, like, thinking about it? It's going be good. We've had so many good things happen over the last five-month period, it's been actually amazing. The people of this country are absolutely incredible people and I am honored to be with you tonight. It's like this all over the place. We're going to take our country back, folks. We're going to take it back. We're taking our country back. It's gone on too long, too many mistakes, too many stupid people telling us what we're supposed to be doing. We're going to be taking it back and we're taking it back soon. We can't put up with it any longer. You see what happens. The Iran deal, incompetent. Anything you look, now I hear Bergdahl, no jail time for Bergdahl. I mean, no jail time. We have a man there who left. He's a traitor. He left. Five people killed looking for him. And what happens? Like, for years, he's been under the same thing, and I hear there's not going to be jail time. It's incredible. You know, 50 years ago, what would happen? Boom. Twenty-five years ago, probably the same thing, but it would have taken longer. Ten years ago, jail time. Five years ago, a couple of years. Now, he's going to get nothing. He's going to get nothing. Well, I'll tell you what, I'm just thinking of it now for the first time. If I get in, we will review his case, I promise you. And you know what? Statute of limitations will be reviewing Hillary Clinton's case, too. I can tell you. We will review that. You know, before I go too far, I've made some great friends and, you know, I announced and I talked about illegal immigration. There was a huge firestorm, everyone went crazy, oh, illegal immigration, it wasn't even something that people are going to talk about. And then all of a sudden they started saying, you know, maybe Trump is right. But I went through two weeks, it was unbelievable. I mean, it was really incredible. I didn't mind it. You know, it's like, quote life, because I'm telling the truth. I don't mind when you're saying something that's correct and this country needs to get away from political correctness. It's killing us. It's killing us. It is absolutely killing us. And I announced all about -- we talked about what's happening at the border, we talked about the illegals pouring in. And all of a sudden people started seeing lots of crime and they started really seeing it to lose focus because it was like a magnifying glass. We had beautiful Kate in San Francisco who was killed and shot five times and then we had so many others. We had a woman a few weeks ago in California raped, sodomized, 66- year-old veteran, raped, sodomized and killed by an illegal immigrant. We have much, much crime, so much all over the place. And a friend of mine, I see him backstage with a group from remembrance families. You know, remembrance, right? These are people whose families have been devastated by people that weren't supposed to be in our country. People that came here, were forced here by countries that are smarter and I want to just bring the friends of mine and in particular, somebody has really gotten to know well and he's a special man. Could the remembered families come up? And this is Jamiel. Jamiel Shaw. Come on up and get the families up. Come on up. Come on up. I saw him back. We're going to say hello and I said, come on up and say a few words. These are incredible people. These are amazing people. They're amazing families. What they're going through, you cannot imagine. For no reason whatsoever, just incompetent people. They allow these people to come into our country. It's a disgrace. It's a disgrace. OK. So today, we had a lot of news and it was all good. It never gets reported properly by these people back here. Look at all those press. But you know, I've learned two things, more than anything else. How smart the people are and how bad and dishonest the press is because it is really dishonest. It is really, really dishonest. So we had a lot of polls coming out today. And they were really good. That's right. So we had the Monmouth poll, very highly respected. Trump, 41. Cruz, 14. And everyone else much lower, I mean, somewhere. So I heard today when they announced the poll, 41 to 14, and I like Cruz. Good guy. But I heard, here's how they announced, Cruz surging. So when I heard, this was on television, Cruz surging. So I said, oh, I don't know, that sounds bad to me. \"Coming up, Cruz surging.\" Then they said the Monmouth poll was just done, Cruz is surging. Trump 41, Cruz 14. I said, wait a minute, what's going on? I'll tell you what, they are the most dishonest people. Then, you know about CNN. CNN came out just recently, 36 to 16. Graves poll, highly respected, 42 to 16 to 12 to 11. So \"Des Moines Register\" was 21-31. All of a sudden, it was like the biggest story I've ever seen OK? That was just Iowa. Don't worry about it. Iowa, we love Iowa but I think we're doing great in Iowa, and I expect to win Iowa. We think we're going to do great in Iowa. I get by far the biggest crowds. So then we had a CNN poll. So CNN today was talking about a poll that wasn't theirs. And I kept saying, why don't they talk about a poll that's theirs? So they just did this poll, it's a new poll. CNN and Iowa, Trump 33, Cruz 20 and then everyone else much lower. So we actually sent a couple of emails, started to tweet a little bit. You know, the Twitter is great when you have between 5 and 10 and 13 -- we have so many people. We have millions. So we started to tweet. We said, why is CNN not playing their poll? It's their poll. So if anybody has an idea, please let me know before the evening ends. Then we had a Fox News poll, which was a pretty good poll. It was pretty much tied. Then we have Quinnipiac. And Quinnipiac was 28 Trump, 27 Cruz. In other words, we won. They call it was tie. They say it was tie. OK. I mean, so what? You know the bottom line? I think we're going to win Iowa. I think we're going to win New Hampshire big. I think that, frankly as we win Iowa..."
      ]
     },
     "execution_count": 53,
     "metadata": {},
     "output_type": "execute_result"
    }
   ],
   "source": [
    "spacy_tok(review[0])"
   ]
  },
  {
   "cell_type": "markdown",
   "metadata": {},
   "source": [
    "We use Pytorch's [torchtext](https://github.com/pytorch/text) library to preprocess our data, telling it to use the wonderful [spacy](https://spacy.io/) library to handle tokenization.\n",
    "\n",
    "First, we create a torchtext *field*, which describes how to preprocess a piece of text - in this case, we tell torchtext to make everything lowercase, and tokenize it with spacy."
   ]
  },
  {
   "cell_type": "code",
   "execution_count": 54,
   "metadata": {},
   "outputs": [],
   "source": [
    "TEXT = data.Field(lower=True, tokenize=\"spacy\")"
   ]
  },
  {
   "cell_type": "markdown",
   "metadata": {},
   "source": [
    "fastai works closely with torchtext. We create a ModelData object for language modeling by taking advantage of `LanguageModelData`, passing it our torchtext field object, and the paths to our training, test, and validation sets. In this case, we don't have a separate test set, so we'll just use `VAL_PATH` for that too.\n",
    "\n",
    "As well as the usual `bs` (batch size) parameter, we also not have `bptt`; this define how many words are processing at a time in each row of the mini-batch. More importantly, it defines how many 'layers' we will backprop through. Making this number higher will increase time and memory requirements, but will improve the model's ability to handle long sentences."
   ]
  },
  {
   "cell_type": "code",
   "execution_count": 55,
   "metadata": {},
   "outputs": [],
   "source": [
    "bs=64; bptt=70"
   ]
  },
  {
   "cell_type": "code",
   "execution_count": 56,
   "metadata": {},
   "outputs": [],
   "source": [
    "FILES = dict(train=TRN_PATH, validation=VAL_PATH, test=VAL_PATH)\n",
    "md = LanguageModelData.from_text_files(PATH, TEXT, **FILES, bs=bs, bptt=bptt, min_freq=10)"
   ]
  },
  {
   "cell_type": "markdown",
   "metadata": {},
   "source": [
    "After building our `ModelData` object, it automatically fills the `TEXT` object with a very important attribute: `TEXT.vocab`. This is a *vocabulary*, which stores which words (or *tokens*) have been seen in the text, and how each word will be mapped to a unique integer id. We'll need to use this information again later, so we save it.\n",
    "\n",
    "*(Technical note: python's standard `Pickle` library can't handle this correctly, so at the top of this notebook we used the `dill` library instead and imported it as `pickle`)*."
   ]
  },
  {
   "cell_type": "code",
   "execution_count": 57,
   "metadata": {},
   "outputs": [],
   "source": [
    "pickle.dump(TEXT, open(f'{PATH}models/TEXT.pkl','wb'))"
   ]
  },
  {
   "cell_type": "markdown",
   "metadata": {},
   "source": [
    "Here are the: # batches; # unique tokens in the vocab; # tokens in the training set; # sentences"
   ]
  },
  {
   "cell_type": "code",
   "execution_count": 58,
   "metadata": {},
   "outputs": [
    {
     "data": {
      "text/plain": [
       "(174, 3043, 1, 787998)"
      ]
     },
     "execution_count": 58,
     "metadata": {},
     "output_type": "execute_result"
    }
   ],
   "source": [
    "len(md.trn_dl), md.nt, len(md.trn_ds), len(md.trn_ds[0].text)"
   ]
  },
  {
   "cell_type": "markdown",
   "metadata": {},
   "source": [
    "This is the start of the mapping from integer IDs to unique tokens."
   ]
  },
  {
   "cell_type": "code",
   "execution_count": 59,
   "metadata": {
    "scrolled": true
   },
   "outputs": [
    {
     "data": {
      "text/plain": [
       "['<unk>', '<pad>', '.', ',', 'the', 'and', 'to', 'i', 'we', 'a', 'you', 'it']"
      ]
     },
     "execution_count": 59,
     "metadata": {},
     "output_type": "execute_result"
    }
   ],
   "source": [
    "# 'itos': 'int-to-string'\n",
    "TEXT.vocab.itos[:12]"
   ]
  },
  {
   "cell_type": "code",
   "execution_count": 60,
   "metadata": {
    "scrolled": true
   },
   "outputs": [
    {
     "data": {
      "text/plain": [
       "4"
      ]
     },
     "execution_count": 60,
     "metadata": {},
     "output_type": "execute_result"
    }
   ],
   "source": [
    "# 'stoi': 'string to int'\n",
    "TEXT.vocab.stoi['the']"
   ]
  },
  {
   "cell_type": "markdown",
   "metadata": {},
   "source": [
    "Note that in a `LanguageModelData` object there is only one item in each dataset: all the words of the text joined together."
   ]
  },
  {
   "cell_type": "code",
   "execution_count": 61,
   "metadata": {},
   "outputs": [
    {
     "data": {
      "text/plain": [
       "[[' ',\n",
       "  'i',\n",
       "  \"'m\",\n",
       "  'going',\n",
       "  'to',\n",
       "  'be',\n",
       "  'back',\n",
       "  'here',\n",
       "  'so',\n",
       "  'much',\n",
       "  ',',\n",
       "  'you']]"
      ]
     },
     "execution_count": 61,
     "metadata": {},
     "output_type": "execute_result"
    }
   ],
   "source": [
    "[md.trn_ds[0].text[:12]]"
   ]
  },
  {
   "cell_type": "markdown",
   "metadata": {},
   "source": [
    "torchtext will handle turning this words into integer IDs for us automatically."
   ]
  },
  {
   "cell_type": "code",
   "execution_count": 62,
   "metadata": {},
   "outputs": [
    {
     "data": {
      "text/plain": [
       "Variable containing:\n",
       "  394\n",
       "    7\n",
       "   54\n",
       "   18\n",
       "    6\n",
       "   32\n",
       "   86\n",
       "   92\n",
       "   26\n",
       "  108\n",
       "    3\n",
       "   10\n",
       "[torch.cuda.LongTensor of size 12x1 (GPU 0)]"
      ]
     },
     "execution_count": 62,
     "metadata": {},
     "output_type": "execute_result"
    }
   ],
   "source": [
    "TEXT.numericalize([md.trn_ds[0].text[:12]])"
   ]
  },
  {
   "cell_type": "markdown",
   "metadata": {},
   "source": [
    "Our `LanguageModelData` object will create batches with 64 columns (that's our batch size), and varying sequence lengths of around 80 tokens (that's our `bptt` parameter - *backprop through time*).\n",
    "\n",
    "Each batch also contains the exact same data as labels, but one word later in the text - since we're trying to always predict the next word. The labels are flattened into a 1d array."
   ]
  },
  {
   "cell_type": "code",
   "execution_count": 63,
   "metadata": {},
   "outputs": [
    {
     "data": {
      "text/plain": [
       "(Variable containing:\n",
       "   394    18  1289  ...     91  1267     5\n",
       "     7     6   113  ...     59    10   192\n",
       "    54    32     0  ...      4   167  2069\n",
       "        ...          ⋱          ...       \n",
       "    14  1540     5  ...     38    18   209\n",
       "   123    57    61  ...     13     6   205\n",
       "   210    12     4  ...     68   186    48\n",
       " [torch.cuda.LongTensor of size 69x64 (GPU 0)], Variable containing:\n",
       "     7\n",
       "     6\n",
       "   113\n",
       "   ⋮  \n",
       "     0\n",
       "    25\n",
       "    29\n",
       " [torch.cuda.LongTensor of size 4416 (GPU 0)])"
      ]
     },
     "execution_count": 63,
     "metadata": {},
     "output_type": "execute_result"
    }
   ],
   "source": [
    "next(iter(md.trn_dl))"
   ]
  },
  {
   "cell_type": "markdown",
   "metadata": {},
   "source": [
    "### Train"
   ]
  },
  {
   "cell_type": "markdown",
   "metadata": {},
   "source": [
    "We have a number of parameters to set - we'll learn more about these later, but you should find these values suitable for many problems."
   ]
  },
  {
   "cell_type": "code",
   "execution_count": 64,
   "metadata": {},
   "outputs": [],
   "source": [
    "em_sz = 200  # size of each embedding vector\n",
    "nh = 500     # number of hidden activations per layer\n",
    "nl = 3       # number of layers"
   ]
  },
  {
   "cell_type": "markdown",
   "metadata": {},
   "source": [
    "Researchers have found that large amounts of *momentum* (which we'll learn about later) don't work well with these kinds of *RNN* models, so we create a version of the *Adam* optimizer with less momentum than it's default of `0.9`."
   ]
  },
  {
   "cell_type": "code",
   "execution_count": 65,
   "metadata": {},
   "outputs": [],
   "source": [
    "opt_fn = partial(optim.Adam, betas=(0.7, 0.99))"
   ]
  },
  {
   "cell_type": "markdown",
   "metadata": {},
   "source": [
    "fastai uses a variant of the state of the art [AWD LSTM Language Model](https://arxiv.org/abs/1708.02182) developed by Stephen Merity. A key feature of this model is that it provides excellent regularization through [Dropout](https://en.wikipedia.org/wiki/Convolutional_neural_network#Dropout). There is no simple way known (yet!) to find the best values of the dropout parameters below - you just have to experiment...\n",
    "\n",
    "However, the other parameters (`alpha`, `beta`, and `clip`) shouldn't generally need tuning."
   ]
  },
  {
   "cell_type": "code",
   "execution_count": 66,
   "metadata": {},
   "outputs": [],
   "source": [
    "learner = md.get_model(opt_fn, em_sz, nh, nl,\n",
    "               dropouti=0.05, dropout=0.05, wdrop=0.1, dropoute=0.02, dropouth=0.05)\n",
    "learner.reg_fn = partial(seq2seq_reg, alpha=2, beta=1)\n",
    "learner.clip=0.3"
   ]
  },
  {
   "cell_type": "markdown",
   "metadata": {},
   "source": [
    "As you can see below, I gradually tuned the language model in a few stages. I possibly could have trained it further (it wasn't yet overfitting), but I didn't have time to experiment more. Maybe you can see if you can train it to a better accuracy! (I used `lr_find` to find a good learning rate, but didn't save the output in this notebook. Feel free to try running it yourself now.)"
   ]
  },
  {
   "cell_type": "code",
   "execution_count": 67,
   "metadata": {},
   "outputs": [
    {
     "data": {
      "application/vnd.jupyter.widget-view+json": {
       "model_id": "6c969eff70c8426692702e7872638512",
       "version_major": 2,
       "version_minor": 0
      },
      "text/plain": [
       "HBox(children=(IntProgress(value=0, description='Epoch', max=15), HTML(value='')))"
      ]
     },
     "metadata": {},
     "output_type": "display_data"
    },
    {
     "name": "stdout",
     "output_type": "stream",
     "text": [
      "epoch      trn_loss   val_loss                              \n",
      "    0      5.061863   4.823403  \n",
      "    1      4.362948   4.073439                              \n",
      "    2      4.079154   3.939788                              \n",
      "    3      3.891141   3.697113                              \n",
      "    4      3.643698   3.515472                              \n",
      "    5      3.490644   3.429876                              \n",
      "    6      3.420022   3.412999                              \n",
      "    7      3.446908   3.364478                              \n",
      "    8      3.309707   3.28492                               \n",
      "    9      3.172821   3.228229                              \n",
      "    10     3.073549   3.194465                              \n",
      "    11     2.959769   3.166232                              \n",
      "    12     2.913606   3.149642                              \n",
      "    13     2.86006    3.146755                              \n",
      "    14     2.819492   3.148902                              \n",
      "\n"
     ]
    },
    {
     "data": {
      "text/plain": [
       "[array([3.1489])]"
      ]
     },
     "execution_count": 67,
     "metadata": {},
     "output_type": "execute_result"
    }
   ],
   "source": [
    "learner.fit(3e-3, 4, wds=1e-6, cycle_len=1, cycle_mult=2)"
   ]
  },
  {
   "cell_type": "code",
   "execution_count": 68,
   "metadata": {},
   "outputs": [],
   "source": [
    "learner.save_encoder('adam1_enc')"
   ]
  },
  {
   "cell_type": "code",
   "execution_count": 69,
   "metadata": {},
   "outputs": [],
   "source": [
    "learner.load_encoder('adam1_enc')"
   ]
  },
  {
   "cell_type": "code",
   "execution_count": null,
   "metadata": {},
   "outputs": [],
   "source": []
  },
  {
   "cell_type": "code",
   "execution_count": 29,
   "metadata": {
    "scrolled": true
   },
   "outputs": [
    {
     "data": {
      "application/vnd.jupyter.widget-view+json": {
       "model_id": "30022833f7b14a4194e9275ae3e065cb",
       "version_major": 2,
       "version_minor": 0
      },
      "text/plain": [
       "HBox(children=(IntProgress(value=0, description='Epoch', max=10), HTML(value='')))"
      ]
     },
     "metadata": {},
     "output_type": "display_data"
    },
    {
     "name": "stdout",
     "output_type": "stream",
     "text": [
      "epoch      trn_loss   val_loss                              \n",
      "    0      3.855831   4.168963  \n",
      "    1      3.841275   4.148924                              \n",
      "    2      3.746623   4.1457                                \n",
      "    3      3.6419     4.148001                              \n",
      "    4      3.550224   4.157631                              \n",
      "    5      3.433506   4.185609                              \n",
      "    6      3.366927   4.193138                              \n",
      "    7      3.314364   4.195596                              \n",
      "    8      3.266821   4.213211                              \n",
      "    9      3.274691   4.212482                              \n",
      "\n"
     ]
    },
    {
     "data": {
      "text/plain": [
       "[array([4.21248])]"
      ]
     },
     "execution_count": 29,
     "metadata": {},
     "output_type": "execute_result"
    }
   ],
   "source": [
    "learner.fit(3e-3, 1, wds=1e-6, cycle_len=10)"
   ]
  },
  {
   "cell_type": "code",
   "execution_count": 30,
   "metadata": {},
   "outputs": [],
   "source": [
    "learner.save_encoder('adam3_10_enc')\n",
    "#learner.load_cycle('adam3_10',2)"
   ]
  },
  {
   "cell_type": "markdown",
   "metadata": {},
   "source": [
    "In the sentiment analysis section, we'll just need half of the language model - the *encoder*, so we save that part."
   ]
  },
  {
   "cell_type": "code",
   "execution_count": 31,
   "metadata": {},
   "outputs": [],
   "source": [
    "learner.save_encoder('adam3_20_enc')"
   ]
  },
  {
   "cell_type": "code",
   "execution_count": 32,
   "metadata": {},
   "outputs": [],
   "source": [
    "learner.load_encoder('adam3_20_enc')"
   ]
  },
  {
   "cell_type": "markdown",
   "metadata": {},
   "source": [
    "Language modeling accuracy is generally measured using the metric *perplexity*, which is simply `exp()` of the loss function we used."
   ]
  },
  {
   "cell_type": "code",
   "execution_count": 70,
   "metadata": {},
   "outputs": [
    {
     "data": {
      "text/plain": [
       "64.3926824434624"
      ]
     },
     "execution_count": 70,
     "metadata": {},
     "output_type": "execute_result"
    }
   ],
   "source": [
    "math.exp(4.165)"
   ]
  },
  {
   "cell_type": "code",
   "execution_count": 71,
   "metadata": {},
   "outputs": [],
   "source": [
    "pickle.dump(TEXT, open(f'{PATH}models/TEXT.pkl','wb'))"
   ]
  },
  {
   "cell_type": "code",
   "execution_count": 72,
   "metadata": {},
   "outputs": [
    {
     "data": {
      "text/plain": [
       "4"
      ]
     },
     "execution_count": 72,
     "metadata": {},
     "output_type": "execute_result"
    }
   ],
   "source": [
    "TEXT.vocab.stoi['the']"
   ]
  },
  {
   "cell_type": "markdown",
   "metadata": {
    "heading_collapsed": true
   },
   "source": [
    "### Test"
   ]
  },
  {
   "cell_type": "markdown",
   "metadata": {
    "hidden": true
   },
   "source": [
    "We can play around with our language model a bit to check it seems to be working OK. First, let's create a short bit of text to 'prime' a set of predictions. We'll use our torchtext field to numericalize it so we can feed it to our language model."
   ]
  },
  {
   "cell_type": "code",
   "execution_count": 73,
   "metadata": {},
   "outputs": [],
   "source": [
    "def tokenizer(text): # create a tokenizer function\n",
    "    return [tok for tok in spacy_en.tokenizer(text)]"
   ]
  },
  {
   "cell_type": "code",
   "execution_count": null,
   "metadata": {},
   "outputs": [],
   "source": [
    "#tokenizer(\"this is interesting\")"
   ]
  },
  {
   "cell_type": "code",
   "execution_count": 107,
   "metadata": {
    "hidden": true
   },
   "outputs": [
    {
     "name": "stdout",
     "output_type": "stream",
     "text": [
      "[['crooked']]\n"
     ]
    },
    {
     "data": {
      "text/plain": [
       "Variable containing:\n",
       " 413\n",
       "[torch.cuda.LongTensor of size 1x1 (GPU 0)]"
      ]
     },
     "execution_count": 107,
     "metadata": {},
     "output_type": "execute_result"
    }
   ],
   "source": [
    "m=learner.model\n",
    "\n",
    "ss={}\n",
    "ss[0]=[['kanye']]\n",
    "ss[1]=[['look','forward']]\n",
    "ss[2]=[['look','at','what']]\n",
    "ss[3]=[['crooked']]\n",
    "ss[4]=[['huge']]\n",
    "ss[5]=[['thank','you','to','all']]\n",
    "ss[6]=[['ive','got','a','lot','of','problems','with','you','people']]\n",
    "\n",
    "\n",
    "#s = [spacy_tok(ss)]\n",
    "#sss = [spacy_tok(ss)]\n",
    "# print(ss)\n",
    "\n",
    "s = ss[0]\n",
    "print(s)\n",
    "\n",
    "t=TEXT.numericalize(s)\n",
    "t\n",
    "# ' '.join(s[0])\n",
    "#' '.join([sent.string.strip() for sent in spacy_tok(s[0])])"
   ]
  },
  {
   "cell_type": "markdown",
   "metadata": {
    "hidden": true
   },
   "source": [
    "We haven't yet added methods to make it easy to test a language model, so we'll need to manually go through the steps."
   ]
  },
  {
   "cell_type": "code",
   "execution_count": 109,
   "metadata": {
    "hidden": true
   },
   "outputs": [],
   "source": [
    "        \n",
    "# Set batch size to 1\n",
    "m[0].bs=1\n",
    "# Turn off dropout\n",
    "m.eval()\n",
    "# Reset hidden state\n",
    "m.reset()\n",
    "# Get predictions from model\n",
    "res,*_ = m(t)\n",
    "# Put the batch size back to what it was\n",
    "m[0].bs=bs"
   ]
  },
  {
   "cell_type": "markdown",
   "metadata": {
    "hidden": true
   },
   "source": [
    "Let's see what the top 10 predictions were for the next word after our short text:"
   ]
  },
  {
   "cell_type": "code",
   "execution_count": 110,
   "metadata": {
    "hidden": true
   },
   "outputs": [
    {
     "data": {
      "text/plain": [
       "['hillary', '<eos>', ' ', 'trump', 'j.', 'i', 'clinton', 'we', 'bush', 'obama']"
      ]
     },
     "execution_count": 110,
     "metadata": {},
     "output_type": "execute_result"
    }
   ],
   "source": [
    "nexts = torch.topk(res[-1], 10)[1]\n",
    "[TEXT.vocab.itos[o] for o in to_np(nexts)]"
   ]
  },
  {
   "cell_type": "markdown",
   "metadata": {
    "hidden": true
   },
   "source": [
    "...and let's see if our model can generate a bit more text all by itself!"
   ]
  },
  {
   "cell_type": "code",
   "execution_count": 111,
   "metadata": {
    "hidden": true
   },
   "outputs": [
    {
     "name": "stdout",
     "output_type": "stream",
     "text": [
      "[['crooked']] \n",
      "\n",
      "hillary clinton 's plan will be a disaster for the american people . she wants to raise your taxes . we 're going to eliminate every unnecessary job - killing regulation . we will cancel every illegal obama executive order . we will cancel every illegal obama executive order . ...\n"
     ]
    }
   ],
   "source": [
    "print(s,\"\\n\")\n",
    "for i in range(50):\n",
    "    n=res[-1].topk(2)[1]\n",
    "    n = n[1] if n.data[0]==0 else n[0]\n",
    "    print(TEXT.vocab.itos[n.data[0]], end=' ')\n",
    "    res,*_ = m(n[0].unsqueeze(0))\n",
    "print('...')"
   ]
  },
  {
   "cell_type": "markdown",
   "metadata": {},
   "source": [
    "### Sentiment"
   ]
  },
  {
   "cell_type": "markdown",
   "metadata": {},
   "source": [
    "We'll need to the saved vocab from the language model, since we need to ensure the same words map to the same IDs."
   ]
  },
  {
   "cell_type": "code",
   "execution_count": null,
   "metadata": {},
   "outputs": [],
   "source": [
    "TEXT = pickle.load(open(f'{PATH}models/TEXT.pkl','rb'))"
   ]
  },
  {
   "cell_type": "markdown",
   "metadata": {},
   "source": [
    "`sequential=False` tells torchtext that a text field should be tokenized (in this case, we just want to store the 'positive' or 'negative' single label).\n",
    "\n",
    "`splits` is a torchtext method that creates train, test, and validation sets. The IMDB dataset is built into torchtext, so we can take advantage of that. Take a look at `lang_model-arxiv.ipynb` to see how to define your own fastai/torchtext datasets."
   ]
  },
  {
   "cell_type": "code",
   "execution_count": null,
   "metadata": {},
   "outputs": [],
   "source": [
    "IMDB_LABEL = data.Field(sequential=False)\n",
    "splits = torchtext.datasets.IMDB.splits(TEXT, IMDB_LABEL, 'data/')"
   ]
  },
  {
   "cell_type": "code",
   "execution_count": null,
   "metadata": {},
   "outputs": [],
   "source": [
    "t = splits[0].examples[0]"
   ]
  },
  {
   "cell_type": "code",
   "execution_count": null,
   "metadata": {},
   "outputs": [],
   "source": [
    "t.label, ' '.join(t.text[:16])"
   ]
  },
  {
   "cell_type": "markdown",
   "metadata": {},
   "source": [
    "fastai can create a ModelData object directly from torchtext splits."
   ]
  },
  {
   "cell_type": "code",
   "execution_count": null,
   "metadata": {},
   "outputs": [],
   "source": [
    "md2 = TextData.from_splits(PATH, splits, bs)"
   ]
  },
  {
   "cell_type": "code",
   "execution_count": null,
   "metadata": {},
   "outputs": [],
   "source": [
    "m3 = md2.get_model(opt_fn, 1500, bptt, emb_sz=em_sz, n_hid=nh, n_layers=nl, \n",
    "           dropout=0.1, dropouti=0.4, wdrop=0.5, dropoute=0.05, dropouth=0.3)\n",
    "m3.reg_fn = partial(seq2seq_reg, alpha=2, beta=1)\n",
    "m3.load_encoder(f'adam3_20_enc')"
   ]
  },
  {
   "cell_type": "markdown",
   "metadata": {},
   "source": [
    "Because we're fine-tuning a pretrained model, we'll use differential learning rates, and also increase the max gradient for clipping, to allow the SGDR to work better."
   ]
  },
  {
   "cell_type": "code",
   "execution_count": null,
   "metadata": {},
   "outputs": [],
   "source": [
    "m3.clip=25.\n",
    "lrs=np.array([1e-4,1e-4,1e-4,1e-3,1e-2])"
   ]
  },
  {
   "cell_type": "code",
   "execution_count": null,
   "metadata": {
    "scrolled": true
   },
   "outputs": [],
   "source": [
    "m3.freeze_to(-1)\n",
    "m3.fit(lrs/2, 1, metrics=[accuracy])\n",
    "m3.unfreeze()\n",
    "m3.fit(lrs, 1, metrics=[accuracy], cycle_len=1)"
   ]
  },
  {
   "cell_type": "code",
   "execution_count": null,
   "metadata": {
    "scrolled": true
   },
   "outputs": [],
   "source": [
    "m3.fit(lrs, 7, metrics=[accuracy], cycle_len=2, cycle_save_name='imdb2')"
   ]
  },
  {
   "cell_type": "code",
   "execution_count": null,
   "metadata": {},
   "outputs": [],
   "source": [
    "m3.load_cycle('imdb2', 4)"
   ]
  },
  {
   "cell_type": "code",
   "execution_count": null,
   "metadata": {},
   "outputs": [],
   "source": [
    "accuracy_np(*m3.predict_with_targs())"
   ]
  },
  {
   "attachments": {
    "image.png": {
     "image/png": "[encoded data removed]"
    }
   },
   "cell_type": "markdown",
   "metadata": {},
   "source": [
    "A recent paper from Bradbury et al, [Learned in translation: contextualized word vectors](https://einstein.ai/research/learned-in-translation-contextualized-word-vectors), has a handy summary of the latest academic research in solving this IMDB sentiment analysis problem. Many of the latest algorithms shown are tuned for this specific problem.\n",
    "\n",
    "![image.png](attachment:image.png)\n",
    "\n",
    "As you see, we just got a new state of the art result in sentiment analysis, decreasing the error from 5.9% to 5.5%! You should be able to get similarly world-class results on other NLP classification problems using the same basic steps.\n",
    "\n",
    "There are many opportunities to further improve this, although we won't be able to get to them until part 2 of this course..."
   ]
  },
  {
   "cell_type": "markdown",
   "metadata": {},
   "source": [
    "### End"
   ]
  },
  {
   "cell_type": "code",
   "execution_count": null,
   "metadata": {},
   "outputs": [],
   "source": []
  }
 ],
 "metadata": {
  "kernelspec": {
   "display_name": "Python 3",
   "language": "python",
   "name": "python3"
  },
  "language_info": {
   "codemirror_mode": {
    "name": "ipython",
    "version": 3
   },
   "file_extension": ".py",
   "mimetype": "text/x-python",
   "name": "python",
   "nbconvert_exporter": "python",
   "pygments_lexer": "ipython3",
   "version": "3.6.5"
  },
  "toc": {
   "colors": {
    "hover_highlight": "#DAA520",
    "navigate_num": "#000000",
    "navigate_text": "#333333",
    "running_highlight": "#FF0000",
    "selected_highlight": "#FFD700",
    "sidebar_border": "#EEEEEE",
    "wrapper_background": "#FFFFFF"
   },
   "moveMenuLeft": true,
   "nav_menu": {
    "height": "123px",
    "width": "251px"
   },
   "navigate_menu": true,
   "number_sections": true,
   "sideBar": true,
   "threshold": 4,
   "toc_cell": false,
   "toc_section_display": "block",
   "toc_window_display": false,
   "widenNotebook": false
  }
 },
 "nbformat": 4,
 "nbformat_minor": 2
}
